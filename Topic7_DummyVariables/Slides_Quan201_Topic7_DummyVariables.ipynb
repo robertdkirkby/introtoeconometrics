{
 "cells": [
  {
   "cell_type": "code",
   "execution_count": 1,
   "metadata": {
    "slideshow": {
     "slide_type": "skip"
    }
   },
   "outputs": [
    {
     "ename": "LoadError",
     "evalue": "syntax: extra token \"IPython\" after end of expression",
     "output_type": "error",
     "traceback": [
      "syntax: extra token \"IPython\" after end of expression",
      ""
     ]
    }
   ],
   "source": [
    "from IPython.display import HTML\n",
    "HTML('''<script>\n",
    "  function code_toggle() {\n",
    "    if (code_shown){\n",
    "      $('div.input').hide('500');\n",
    "      $('#toggleButton').val('Show Code')\n",
    "    } else {\n",
    "      $('div.input').show('500');\n",
    "      $('#toggleButton').val('Hide Code')\n",
    "    }\n",
    "    code_shown = !code_shown\n",
    "  }\n",
    "\n",
    "  $( document ).ready(function(){\n",
    "    code_shown=false;\n",
    "    $('div.input').hide()\n",
    "  });\n",
    "</script>\n",
    "<form action=\"javascript:code_toggle()\"><input type=\"submit\" id=\"toggleButton\" value=\"Show Code\"></form>''')"
   ]
  },
  {
   "cell_type": "code",
   "execution_count": 6,
   "metadata": {
    "scrolled": true,
    "slideshow": {
     "slide_type": "skip"
    }
   },
   "outputs": [
    {
     "ename": "LoadError",
     "evalue": "syntax: extra token \"as\" after end of expression",
     "output_type": "error",
     "traceback": [
      "syntax: extra token \"as\" after end of expression",
      ""
     ]
    }
   ],
   "source": [
    "#%matplotlib inline\n",
    "import matplotlib.pyplot as plt\n",
    "import matplotlib.mlab as mlab\n",
    "import matplotlib.patches as patches\n",
    "#plt.style.reload_library()\n",
    "#plt.style.use(\"ggplot\")\n",
    "from IPython.display import (\n",
    "    display_pretty, display_html, display_jpeg,\n",
    "    display_png, display_json, display_latex, display_svg\n",
    ")\n",
    "#import numpy as np\n",
    "#import pandas as pd\n",
    "#from pandas_datareader import data, wb\n",
    "#from scipy import linalg, optimize\n",
    "#from datetime import datetime, date, timedelta\n",
    "from IPython.display import Audio\n",
    "from IPython.display import YouTubeVideo\n",
    "from IPython.display import HTML\n",
    "from IPython.display import Latex\n",
    "from IPython.display import Image\n",
    "from IPython.display import display\n",
    "from IPython.display import SVG\n",
    "\n",
    "import Dates\n"
   ]
  },
  {
   "cell_type": "markdown",
   "metadata": {
    "slideshow": {
     "slide_type": "slide"
    }
   },
   "source": [
    "## <center>QUAN201 - Introduction to Econometrics</center>\n",
    "### <center>Topic 7: Dummy Variables</center>\n",
    "datetoday = Dates.datetime.today().strftime(\"%m/%d/%Y\")\n",
    "### <center>datetoday</center>"
   ]
  },
  {
   "cell_type": "markdown",
   "metadata": {
    "slideshow": {
     "slide_type": "slide"
    }
   },
   "source": [
    "## Dummy Variables\n",
    "- Incorporate qualitative information.\n",
    "- Different effects for different groups.\n",
    "\n",
    "\n",
    "Reference: Wooldridge, Chapter 7"
   ]
  },
  {
   "cell_type": "markdown",
   "metadata": {
    "slideshow": {
     "slide_type": "slide"
    }
   },
   "source": [
    "### Qualitative Information\n",
    "\n",
    "- What is the effect of being female on wage?\n",
    "<center><img src='Material/Topic7_Fig1.png' width='600' height='80'/></center>\n",
    "- As long as we can put qualitative information into categories we can estimate their effect using OLS. "
   ]
  },
  {
   "cell_type": "markdown",
   "metadata": {
    "slideshow": {
     "slide_type": "slide"
    }
   },
   "source": [
    "<center><img src='Material/Topic7_Fig2.png' width='600' height='80'/></center>"
   ]
  },
  {
   "cell_type": "markdown",
   "metadata": {
    "slideshow": {
     "slide_type": "slide"
    }
   },
   "source": [
    "### Is the OLS regression line a good description of the data?\n",
    "\n",
    "<center><img src='Material/Topic7_Fig2.png' width='600' height='80'/></center>"
   ]
  },
  {
   "cell_type": "markdown",
   "metadata": {
    "slideshow": {
     "slide_type": "slide"
    }
   },
   "source": [
    "#### Express categories in terms of dummy variables\n",
    "- We can express belonging to a certain category with a binary indicator:  \n",
    "  1 = belonging to a category  \n",
    "  0 = not belonging to a category\n",
    "\n",
    "- Example: We can express female as a dummy variable by assigning the value 1 for all females and 0 to all others. \n",
    "\n",
    "- You can transform any information into a dummy variable. It is totally arbitrary.  \n",
    "  DHigh = 1 if individual is educated more than 12 years, 0 if individual is educated less than 12 years\n"
   ]
  },
  {
   "cell_type": "markdown",
   "metadata": {
    "slideshow": {
     "slide_type": "slide"
    }
   },
   "source": [
    "### Data with dummy variables \n",
    "<center><img src='Material/Topic7_Fig4.png' width='500' height='80'/></center>\n"
   ]
  },
  {
   "cell_type": "markdown",
   "metadata": {
    "slideshow": {
     "slide_type": "slide"
    }
   },
   "source": [
    "### Incorporating Dummys in DGPs\n",
    "\n",
    "- We can then express the effect of being in a category by simply including it in the DGP.\n",
    "\n",
    "- The effect of being female on wage can be expressed as follows,\n",
    "$$ wage = \\beta_0 + \\delta_0 female + u $$\n",
    "\n",
    "- $\\delta_0$ captures the effect of being female on wage."
   ]
  },
  {
   "cell_type": "markdown",
   "metadata": {
    "slideshow": {
     "slide_type": "slide"
    }
   },
   "source": [
    "### Base Group\n",
    "\n",
    "- The **base group** (reference group/comparison group) is the group against which we compare the effect of the dummy variable. \n",
    "$$ wage = \\beta_0 + \\delta_0 female + u $$\n",
    "\n",
    "- In this example, the base group is males$^*$. Thus, $\\delta_0$ shows the effect of being female compared to being male on wage. \n",
    "\n",
    "\n",
    "\n",
    "\n",
    "$*$: We will assume for this exercise that the dataset only consists of males and females. If it contained other genders, the base group would be males and all other genders. "
   ]
  },
  {
   "cell_type": "markdown",
   "metadata": {
    "slideshow": {
     "slide_type": "slide"
    }
   },
   "source": [
    "## Example wage equation\n",
    "\n",
    "- Imagine the wage equation with a dummy variable indicating whether an invidividual is female,\n",
    "$$ wage = \\beta_0 + \\delta_0 female + \\beta_1 educ + u $$\n",
    "- Recall that $female$ takes value 1 for women, 0 for men.\n",
    "\n",
    "- When $female=1$ (i.e., for women), get\n",
    "$$ wage = \\underbrace{\\beta_0 + \\delta_0}_{intercept} + \\beta_1 educ + u $$\n",
    "- When $female=0$ (i.e., for men), get\n",
    "$$ wage = \\underbrace{\\beta_0}_{intercept} + \\beta_1 educ + u $$\n",
    "\n",
    "- Note the difference between the two equations is $\\delta_0$ which generates a shift in the intercept.\n"
   ]
  },
  {
   "cell_type": "markdown",
   "metadata": {
    "slideshow": {
     "slide_type": "slide"
    }
   },
   "source": [
    "<center><img src='Material/Topic7_Fig5.png' width='600' height='80'/></center>"
   ]
  },
  {
   "cell_type": "markdown",
   "metadata": {
    "slideshow": {
     "slide_type": "slide"
    }
   },
   "source": [
    "## Example 7.1: Gender Wage Gap\n",
    "\n",
    "- Let us calculate the sample descriptive statistics, i.e., some mean values of the variables.\n",
    "<center><img src='Material/Topic7_Fig6.png' width='600' height='80'/></center>\n",
    "- The average hourly wage of males is \\$7.10 and it is \\$4.59 for females. The raw (unconditional) wage difference between females and males is \\$2.51\n",
    "- Note that this difference is not ceteris paribus and males and females differ for example in terms of educ, exper and tenure. \n"
   ]
  },
  {
   "cell_type": "markdown",
   "metadata": {
    "slideshow": {
     "slide_type": "slide"
    }
   },
   "source": [
    "- Imagine we want to estimate the following model:\n",
    "$$ wage = \\beta_0 + \\delta_0 female + u $$\n",
    "- An wage regression where we only include the female dummy will also give us the average wage difference:\n",
    "<center><img src='Material/Topic7_Fig7.png' width='600' height='80'/></center>\n",
    "- is exactly -\\$2.51 and the intercept is \\$7.10. It is clear that:\n",
    " - When female = 0, the predicted wage is the wage of males: 7.10\n",
    " - When female = 1, the predicted wage is the wage of females : 7.10- 2.51 = 4.59 "
   ]
  },
  {
   "cell_type": "markdown",
   "metadata": {
    "slideshow": {
     "slide_type": "slide"
    }
   },
   "source": [
    "Let's estimate the following model: $ wage = \\beta_0 + \\delta_0 female + \\beta_1 educ + u $\n",
    " <center><img src='Material/Topic7_Fig8.png' width='700' height='50'/></center>"
   ]
  },
  {
   "cell_type": "markdown",
   "metadata": {
    "slideshow": {
     "slide_type": "slide"
    }
   },
   "source": [
    "#### Switching the base group\n",
    "\n",
    "- Old specification of the DGP: $ wage = \\beta_0 + \\delta_0 female + u $\n",
    "\n",
    "- We could instead specify the model DGP as: $ wage = \\beta_0 + \\gamma_0 male + u $  \n",
    "    where $male$ is a dummy variable equal to $1$ if the individual is male and $0$ if the individual is female.\n",
    "- $\\gamma_0$ is thus the effect of being male compared with being female on wages.\n",
    "- Note that this means that $\\gamma_0=-\\delta_0$.\n",
    "- Which group you choose as the base group makes no mathematical difference. It only matters for how you interpret the coefficient.\n"
   ]
  },
  {
   "cell_type": "markdown",
   "metadata": {
    "slideshow": {
     "slide_type": "slide"
    }
   },
   "source": [
    " <center><img src='Material/Topic7_Fig9.png' width='600' height='150'/></center>"
   ]
  },
  {
   "cell_type": "markdown",
   "metadata": {
    "slideshow": {
     "slide_type": "slide"
    }
   },
   "source": [
    "### Dummy Variable Trap\n",
    "- Why not include two dummy variable, one each for females and males ?\n",
    "$$ wage = \\beta_0 + \\delta_0 female + \\gamma_0 male + \\beta_1 educ + u $$\n",
    "- You cannot do this when there is a intercept in the model. Why?\n",
    "- It generates a perfect colinearity (MLR 3). You can perfectly predict male from female and vice versa. This is called dummy variable trap.\n",
    "\n",
    "- Stata will automatically drop one of the redundant dummy variables"
   ]
  },
  {
   "cell_type": "markdown",
   "metadata": {
    "slideshow": {
     "slide_type": "slide"
    }
   },
   "source": [
    "### Dummy Variables with Multiple Categories\n",
    "- In practice you may have qualitative variables with more than two categories.\n",
    "\n",
    "- In this case we create more than one dummy variable: one for each category.\n",
    "\n",
    "- In the regression, we have to leave one of these dummy variables out which will be the base group."
   ]
  },
  {
   "cell_type": "markdown",
   "metadata": {
    "slideshow": {
     "slide_type": "slide"
    }
   },
   "source": [
    "#### Example: Dummies for different Marital Statuses\n",
    "\n",
    " <right><img src='Material/Topic7_Fig10.png' width='300' height='80'/></right>\n",
    "\n",
    "Let’s say we want to distinguish between four marital statuses:\n",
    "\n",
    "Single, married, divorced and widowed.\n",
    "\n",
    "We can then create a a dummy variable for each category.\n",
    "\n",
    "E.g.: $single$ = 1 if person is single and 0 otherwise (i.e., if married, divorced or widowed)"
   ]
  },
  {
   "cell_type": "markdown",
   "metadata": {
    "slideshow": {
     "slide_type": "slide"
    }
   },
   "source": [
    "## Dummy variables for ordinal categories\n",
    "\n",
    "- An **ordinal variable**, is a variable where the order matters but not the difference between values.  \n",
    "E.g., $raceresult$ which takes values of 1 for first, 2 for second, 3 for third, et cetera. (there is an ordering, but no reason to think the difference between 1st and 2nd place is same as between 2nd and 3rd place).\n",
    "\n",
    "- We can estimate the effect of an ordinal variables by creating a dummy for each category.\n",
    "\n",
    "- We then again include all of them except one (the base group) in the regression. \n",
    "\n",
    "- The coefficient on the dummy variable can then be interpreted as effect compared to the base group. \n",
    "\n",
    "- What **not** to do: What goes wrong if we create a variable $maritalstatus$ which takes values of 0 for $single$, 1 for $married$, 2 for $divorced$ and 3 for $widowed$ and simply put that in our regression? (Hint: Why would you expect the effect of $divorced$ to be double the effect of $married$? Why would you expect difference between effect of $widowed$ and $divorced$ to be the same as the difference between $married$ and $single$?)"
   ]
  },
  {
   "cell_type": "markdown",
   "metadata": {
    "slideshow": {
     "slide_type": "slide"
    }
   },
   "source": [
    "### Example: Effect of Physical Attractiveness on Wage\n",
    "\n",
    "- Hamermesh and Biddle (1994) estimate the effect of physical attractiveness on wage. \n",
    "\n",
    "- They use ratings on the beauty using 3 categories (below average, average, above average).\n",
    "\n",
    "- The order of the rating is clear (above average > average> below average), but the difference is not (above average = 2 * average ????)\n",
    "\n",
    "- They therefore include a dummy for above average (1 if beauty is above average, else 0) and a dummy for below average (1 if beauty is below average, else 0).\n",
    "\n",
    "- The base group is average. \n"
   ]
  },
  {
   "cell_type": "markdown",
   "metadata": {
    "slideshow": {
     "slide_type": "slide"
    }
   },
   "source": [
    "Let's estimate the following model: $wage=\\beta_0 + \\beta_1 belavg + \\beta_2 abvavg + u$\n",
    " <right><img src='Material/Topic7_Fig11.png' width='500' height='80'/></right>\n",
    "\n",
    "- *Below average* looking people earn \\$1.23 *less* per hour compared to average looking people (base group).\n",
    "- *Above average* looking people earn *about the same* per hour compared to average looking people (base group)."
   ]
  },
  {
   "cell_type": "markdown",
   "metadata": {
    "slideshow": {
     "slide_type": "slide"
    }
   },
   "source": [
    "## Different effects for different subgroups\n",
    "\n",
    "- What is the return to education for men vs women?\n",
    "<center><img src='Material/Topic7_Fig1.png' width='600' height='80'/></center>\n"
   ]
  },
  {
   "cell_type": "markdown",
   "metadata": {
    "slideshow": {
     "slide_type": "slide"
    }
   },
   "source": [
    "<center><img src='Material/Topic7_Fig12.png' width='600' height='80'/></center>\n"
   ]
  },
  {
   "cell_type": "markdown",
   "metadata": {
    "slideshow": {
     "slide_type": "slide"
    }
   },
   "source": [
    "Is OLS regression line a good description of the data?\n",
    "<center><img src='Material/Topic7_Fig13.png' width='600' height='80'/></center>\n"
   ]
  },
  {
   "cell_type": "markdown",
   "metadata": {
    "slideshow": {
     "slide_type": "slide"
    }
   },
   "source": [
    "### Seperate DGPs\n",
    "\n",
    "- When $female=1$ (women):\n",
    "$$ wage = \\alpha_0 + \\alpha_1 educ + u$$\n",
    "- When $female=0$ (men):\n",
    "$$ wage = \\beta_0 + \\beta_1 educ + u$$\n",
    "- Females and males might have different intercepts ($\\alpha_0$ vs $\\alpha_1$) and different slopes ($\\alpha_1$ vs $\\beta_1$).\n",
    "- Different slopes means that the effect of an increase in education has different effects on wages for women compared to men.\n",
    "- We can then estimate seperate regression. Or we can combine the two DGPs with the help of an interaction term."
   ]
  },
  {
   "cell_type": "markdown",
   "metadata": {
    "slideshow": {
     "slide_type": "slide"
    }
   },
   "source": [
    "#### Interaction Term\n",
    "\n",
    " <right><img src='Material/Topic7_Fig14.png' width='400' height='120'/></right>\n",
    "\n",
    "To create an interaction term simply multiply the two variables.\n",
    "\n",
    "$educXfemale=educ*female$\n"
   ]
  },
  {
   "cell_type": "markdown",
   "metadata": {
    "slideshow": {
     "slide_type": "slide"
    }
   },
   "source": [
    "### Combining the DGPs\n",
    "\n",
    "- Combined DGP, \n",
    "$$ wage = \\beta_0 + \\delta_0 female + \\beta_1 educ + \\delta_1 educXfemale + u$$\n",
    "- DGP for men ($female=0$):\n",
    "$$ wage = \\beta_0 + \\beta_1 educ + u$$\n",
    "- DGP for women ($female=1$):\n",
    "$$ wage = \\beta_0 + \\delta_0 + \\beta_1 educ + \\delta_1 educ + u$$\n",
    " - Intercept for females: $\\beta_0+\\delta_0$\n",
    " - Slope (return to education) for females: $\\beta_1+\\delta_1$\n"
   ]
  },
  {
   "cell_type": "markdown",
   "metadata": {
    "slideshow": {
     "slide_type": "slide"
    }
   },
   "source": [
    "<center><img src='Material/Topic7_Fig15.png' width='600' height='120'/></center>"
   ]
  },
  {
   "cell_type": "markdown",
   "metadata": {
    "slideshow": {
     "slide_type": "slide"
    }
   },
   "source": [
    "Let's estimate the following model: $ wage = \\beta_0 + \\delta_0 female + \\beta_1 educ + \\delta_1 educXfemale + u$\n",
    " <center><img src='Material/Topic7_Fig16.png' width='500' height='120'/></center>\n",
    "\n",
    "- Estimated return to education for men: 0.54\n",
    "- Estimated return to education for women: 0.54 – 0.09 = 0.45\n",
    "\n",
    "- Is the estimated return to education significantly different for men compared to women?  \n",
    "No, because the p-value on the interaction term educXfemale is 0.407"
   ]
  },
  {
   "cell_type": "markdown",
   "metadata": {
    "slideshow": {
     "slide_type": "slide"
    }
   },
   "source": [
    " <center><img src='Material/Topic7_Fig17.png' width='600' height='120'/></center>\n",
    "\n",
    "Advantage of estimating this in one regression is that we can immediately see if the\n",
    "difference is statistically significant."
   ]
  },
  {
   "cell_type": "markdown",
   "metadata": {
    "slideshow": {
     "slide_type": "slide"
    }
   },
   "source": [
    "## White referees call more fouls on black players?\n",
    "\n",
    " <center><img src='Material/Topic7_Fig18.png' width='500' height='120'/></center>\n"
   ]
  },
  {
   "cell_type": "markdown",
   "metadata": {
    "slideshow": {
     "slide_type": "slide"
    }
   },
   "source": [
    "## Or white referees call less fouls on white players?\n",
    "\n",
    " <center><img src='Material/Topic7_Fig18.png' width='500' height='120'/></center>\n"
   ]
  },
  {
   "cell_type": "markdown",
   "metadata": {
    "slideshow": {
     "slide_type": "slide"
    }
   },
   "source": [
    "- We often observe differences in outcomes, but...\n",
    "\n",
    "- **Problem 1: These differences could be due to differences in “skill” or actual behaviour?**\n",
    "\n",
    "- Even if people would have the same “skills” (i.e. everything else is the same)…\n",
    "\n",
    "- **Problem 2: These differences could be due to discrimination or favouritism?**"
   ]
  },
  {
   "cell_type": "markdown",
   "metadata": {
    "slideshow": {
     "slide_type": "slide"
    }
   },
   "source": [
    "## Example: Discrimination in Exam Grading\n",
    "\n",
    "- How do graders grade students with the same/different nationality?\n",
    " <center><img src='Material/Topic7_Fig19.png' width='500' height='100'/></center>\n"
   ]
  },
  {
   "cell_type": "markdown",
   "metadata": {
    "slideshow": {
     "slide_type": "slide"
    }
   },
   "source": [
    "\n",
    "- How do graders grade students with the same/different gender?\n",
    " <center><img src='Material/Topic7_Fig20.png' width='500' height='120'/></center>\n"
   ]
  },
  {
   "cell_type": "markdown",
   "metadata": {
    "slideshow": {
     "slide_type": "slide"
    }
   },
   "source": [
    "\n",
    " <center><img src='Material/Topic7_Fig21.png' width='500' height='120'/></center>\n"
   ]
  },
  {
   "cell_type": "markdown",
   "metadata": {
    "slideshow": {
     "slide_type": "slide"
    }
   },
   "source": [
    "\n",
    " <center><img src='Material/Topic7_Fig22.png' width='500' height='120'/></center>\n"
   ]
  },
  {
   "cell_type": "markdown",
   "metadata": {
    "slideshow": {
     "slide_type": "slide"
    }
   },
   "source": [
    "#### Empirical Strategy\n",
    "\n",
    "$$ S = \\beta_1 MATCH*VISIBLE + \\beta_2 MATCH*BLIND + \\beta_3 NON-MATCH*VISIBLE + \\beta_4 NON-MATCH*BLIND + \\gamma’ Z + \\epsilon $$\n",
    "\n",
    "S = Exam score per question (standardised)  \n",
    "Z = student and grader gender and nationality. \n",
    "\n",
    "Endophilia\t= S|VISIBLE,MATCH – S|BLIND,MATCH $= \\beta_1 – \\beta_2$  \n",
    "Exophobia \t= -1*[S|VISIBLE,NON-MATCH – S|BLIND,NON-MATCH] $= \\beta_4 – \\beta_3$"
   ]
  },
  {
   "cell_type": "markdown",
   "metadata": {
    "slideshow": {
     "slide_type": "slide"
    }
   },
   "source": [
    "#### Results\n",
    "<center><img src='Material/Topic7_Fig23.png' width='500' height='120'/></center>\n"
   ]
  },
  {
   "cell_type": "markdown",
   "metadata": {
    "slideshow": {
     "slide_type": "slide"
    }
   },
   "source": [
    "\n",
    "- Do you want to guess the results?\n",
    " <center><img src='Material/Topic7_Fig24.png' width='500' height='120'/></center>\n"
   ]
  },
  {
   "cell_type": "markdown",
   "metadata": {
    "slideshow": {
     "slide_type": "slide"
    }
   },
   "source": [
    "\n",
    "- Do you want to guess the results?\n",
    " <center><img src='Material/Topic7_Fig25.png' width='500' height='120'/></center>\n"
   ]
  },
  {
   "cell_type": "markdown",
   "metadata": {
    "slideshow": {
     "slide_type": "slide"
    }
   },
   "source": [
    "### What should you take home?\n",
    "\n",
    "- Next time you hear about “discrimination”… recall that:\n",
    " - this might be due to differences in “skill” (i.e. everything else)\n",
    " - And it might be also be favoritism  <img src='Material/Topic7_Fig26.png' width='30' height='30'/>\n",
    "\n",
    " \n",
    "\n",
    "See paper: Jan Feld, Nicolas Salamanca and Daniel S. Hamermesh, (2016) “Endophilia or Exophobia: Beyond Discrimination”, The Economic Journal"
   ]
  },
  {
   "cell_type": "markdown",
   "metadata": {
    "slideshow": {
     "slide_type": "slide"
    }
   },
   "source": [
    "## Review/Other"
   ]
  }
 ],
 "metadata": {
  "celltoolbar": "Slideshow",
  "kernelspec": {
   "display_name": "Julia 1.0.3",
   "language": "julia",
   "name": "julia-1.0"
  },
  "language_info": {
   "file_extension": ".jl",
   "mimetype": "application/julia",
   "name": "julia",
   "version": "1.0.3"
  }
 },
 "nbformat": 4,
 "nbformat_minor": 1
}
