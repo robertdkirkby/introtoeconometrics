{
 "cells": [
  {
   "cell_type": "code",
   "execution_count": 1,
   "metadata": {
    "slideshow": {
     "slide_type": "skip"
    }
   },
   "outputs": [
    {
     "ename": "LoadError",
     "evalue": "syntax: extra token \"IPython\" after end of expression",
     "output_type": "error",
     "traceback": [
      "syntax: extra token \"IPython\" after end of expression",
      ""
     ]
    }
   ],
   "source": [
    "from IPython.display import HTML\n",
    "HTML('''<script>\n",
    "  function code_toggle() {\n",
    "    if (code_shown){\n",
    "      $('div.input').hide('500');\n",
    "      $('#toggleButton').val('Show Code')\n",
    "    } else {\n",
    "      $('div.input').show('500');\n",
    "      $('#toggleButton').val('Hide Code')\n",
    "    }\n",
    "    code_shown = !code_shown\n",
    "  }\n",
    "\n",
    "  $( document ).ready(function(){\n",
    "    code_shown=false;\n",
    "    $('div.input').hide()\n",
    "  });\n",
    "</script>\n",
    "<form action=\"javascript:code_toggle()\"><input type=\"submit\" id=\"toggleButton\" value=\"Show Code\"></form>''')"
   ]
  },
  {
   "cell_type": "code",
   "execution_count": 6,
   "metadata": {
    "scrolled": true,
    "slideshow": {
     "slide_type": "skip"
    }
   },
   "outputs": [
    {
     "ename": "LoadError",
     "evalue": "syntax: extra token \"as\" after end of expression",
     "output_type": "error",
     "traceback": [
      "syntax: extra token \"as\" after end of expression",
      ""
     ]
    }
   ],
   "source": [
    "#%matplotlib inline\n",
    "import matplotlib.pyplot as plt\n",
    "import matplotlib.mlab as mlab\n",
    "import matplotlib.patches as patches\n",
    "#plt.style.reload_library()\n",
    "#plt.style.use(\"ggplot\")\n",
    "from IPython.display import (\n",
    "    display_pretty, display_html, display_jpeg,\n",
    "    display_png, display_json, display_latex, display_svg\n",
    ")\n",
    "#import numpy as np\n",
    "#import pandas as pd\n",
    "#from pandas_datareader import data, wb\n",
    "#from scipy import linalg, optimize\n",
    "#from datetime import datetime, date, timedelta\n",
    "from IPython.display import Audio\n",
    "from IPython.display import YouTubeVideo\n",
    "from IPython.display import HTML\n",
    "from IPython.display import Latex\n",
    "from IPython.display import Image\n",
    "from IPython.display import display\n",
    "from IPython.display import SVG\n",
    "\n",
    "import Dates\n"
   ]
  },
  {
   "cell_type": "markdown",
   "metadata": {
    "slideshow": {
     "slide_type": "slide"
    }
   },
   "source": [
    "## <center>QUAN201 - Introduction to Econometrics</center>\n",
    "### <center>Topic 11: Revision</center>"
   ]
  },
  {
   "cell_type": "markdown",
   "metadata": {
    "slideshow": {
     "slide_type": "slide"
    }
   },
   "source": [
    "## Revision\n",
    "\n",
    "- Revision\n",
    "- Information about Exam\n",
    "\n",
    "- Reference: Wooldridge\n"
   ]
  },
  {
   "cell_type": "markdown",
   "metadata": {
    "slideshow": {
     "slide_type": "slide"
    }
   },
   "source": [
    "## What is Econometrics About?\n",
    "\n",
    "- The goal: We want to test our ideas about how the world works using data.\n",
    "\n",
    "- Econometrics is a toolbox that helps us to do this."
   ]
  },
  {
   "cell_type": "markdown",
   "metadata": {
    "slideshow": {
     "slide_type": "slide"
    }
   },
   "source": [
    "## The relationship between X and Y\n",
    "\n",
    "- We usually want to know how one particular factor (X) influences one particular outcome (Y).   \n",
    "\n",
    "- What is the causal relationship between X and Y? For example, we could ask about the causal relationship between:\n",
    " - education and wages\n",
    " - class size and student test scores\n",
    " - smoking and health\n",
    " - unemployment rate and crime\n",
    "\n",
    "\n"
   ]
  },
  {
   "cell_type": "markdown",
   "metadata": {
    "slideshow": {
     "slide_type": "slide"
    }
   },
   "source": [
    "## DGP and econometric model\n",
    "\n",
    "- We believe that there is some process – the **data generating process (DGP)** - that explains how the outcome we observe is generated. \n",
    "\n",
    "- We describe this DGP mathematically with an **econometric model**. \n",
    "\n",
    "- When writing down the econometric model we therefore have to think about how the functional form (exponential, quadratic, etc.) of the relationship between Y and our Xs. \n"
   ]
  },
  {
   "cell_type": "markdown",
   "metadata": {
    "slideshow": {
     "slide_type": "slide"
    }
   },
   "source": [
    "## Econometric model\n",
    "\n",
    "- Example of an econometric model:\n",
    "\n",
    "<center><img src='Material/Topic11_Fig1.png' width='600' height='80'/></center>"
   ]
  },
  {
   "cell_type": "markdown",
   "metadata": {
    "slideshow": {
     "slide_type": "slide"
    }
   },
   "source": [
    "### The $\\beta$ Coefficient\n",
    "\n",
    "- $\\beta_j$ (or any $\\beta$, $j$ is just an example) shows how change in one factor ($x_j$) affects the outcome:\n",
    "$$\\beta_j = \\frac{\\text{change in }y}{\\text{change in }x_j} = \\frac{\\Delta y}{\\Delta x_j}$$\n",
    "$$ \\Delta y = \\beta_j \\Delta x_j $$\n",
    "- If we would increase $x_j$ by one, holding all other factors constant, $y$ will change by $\\beta_j$.\n",
    "- $\\beta_j$ shows the *causal change* of an change in $x_j$ on $y$."
   ]
  },
  {
   "cell_type": "markdown",
   "metadata": {
    "slideshow": {
     "slide_type": "slide"
    }
   },
   "source": [
    "## Simple and Multiple Regression Model\n",
    "\n",
    "- *Simple Regression* model: \n",
    "$$ y=\\beta_0 + \\beta_1 x + u $$\n",
    "(mention only one factor, x, explicitly)\n",
    "\n",
    "- *Multiple Regression* model:\n",
    "$$ y=\\beta_0 + \\beta_1 x_1  + \\beta_2 x_2 + u $$\n",
    "(mention more than one factor, here $x_1$ and $x_2$, explicitly)\n"
   ]
  },
  {
   "cell_type": "markdown",
   "metadata": {
    "slideshow": {
     "slide_type": "slide"
    }
   },
   "source": [
    "## What do we really want to do?\n",
    "\n",
    "- Find $\\beta_j$!\n",
    "- Why? Because $\\beta_j$ describes the causal relationship between $x_j$ and $y$. This is important for good decision making.\n",
    "\n",
    "- We use data to do this. In a way Economists can also be considered Data Detectives.\n",
    "<center><img src='Material/Topic11_Fig2.png' width='400' height='80'/></center>\n"
   ]
  },
  {
   "cell_type": "markdown",
   "metadata": {
    "slideshow": {
     "slide_type": "slide"
    }
   },
   "source": [
    "### How do we find $\\beta_j$?\n",
    "\n",
    "- Collecting and analysing data.\n",
    "\n",
    "- The most popular method for analysing data is OLS (others are FD, IV).\n",
    "\n",
    "- In some very special circumstances (see OLS assumptions) OLS gives us good estimates of $\\beta_j$."
   ]
  },
  {
   "cell_type": "markdown",
   "metadata": {
    "slideshow": {
     "slide_type": "slide"
    }
   },
   "source": [
    "### Vocabulary guidelines\n",
    "\n",
    "Greek letter = parameter (unobserved and unknown)  \n",
    "Greek letter *with hat* = estimator of parameter (what you see in Stata)"
   ]
  },
  {
   "cell_type": "markdown",
   "metadata": {
    "slideshow": {
     "slide_type": "slide"
    }
   },
   "source": [
    "<center><img src='Material/Topic11_Fig3.png' width='800' height='80'/></center>"
   ]
  },
  {
   "cell_type": "markdown",
   "metadata": {
    "slideshow": {
     "slide_type": "slide"
    }
   },
   "source": [
    "### The Mechanics of OLS\n",
    "\n",
    "- In any dataset, OLS chooses values of the estimators ($\\beta_1$,$\\beta_2$,...) to minimize the sum of squared residuals. \n",
    "<center><img src='Material/Topic11_Fig4.png' width='600' height='80'/></center>"
   ]
  },
  {
   "cell_type": "markdown",
   "metadata": {
    "slideshow": {
     "slide_type": "slide"
    }
   },
   "source": [
    "## Beware! OLS does not imply causation\n",
    "\n",
    "- \n",
    "<center><img src='Material/Topic11_Fig5.png' width='500' height='80'/></center>\n",
    "\n",
    "- $\\hat{\\beta}_j$ is not the same thing as $\\beta$."
   ]
  },
  {
   "cell_type": "markdown",
   "metadata": {
    "slideshow": {
     "slide_type": "slide"
    }
   },
   "source": [
    "### Distribution of $\\hat{\\beta}_j$\n",
    "\n",
    "- Our OLS estimate is done with one sample. \n",
    "- For each (hypothetical) new sample we would get a different estimate. \n",
    "- All the values of the hypothetical estimates follow a distribution. This is what we mean with distribution of $\\hat{\\beta}_j$.\n",
    "\n",
    "<center><img src='Material/Topic11_Fig6.png' width='500' height='80'/></center>\n"
   ]
  },
  {
   "cell_type": "markdown",
   "metadata": {
    "slideshow": {
     "slide_type": "slide"
    }
   },
   "source": [
    "## Unbiasedness of $\\hat{\\beta}_j$\n",
    "\n",
    "- Formal definition: $\\hat{\\beta}_j$ is unbiased if $E[\\hat{\\beta}_j] = \\beta_j$. \n",
    "\n",
    "- Intuition:\n",
    " - $\\hat{\\beta}_j$ is and unbiased estimator of $\\beta_j$ if $\\hat{\\beta}_j$ is on average (in infinetely many samples) equal to $\\beta_j$.  \n",
    " - Since we know that with each sample we would get a different estimate, we aim for having an estimator that gets it right on average.\n"
   ]
  },
  {
   "cell_type": "markdown",
   "metadata": {
    "slideshow": {
     "slide_type": "slide"
    }
   },
   "source": [
    "## When is $\\hat{\\beta}_j$ unbiased?\n",
    "\n",
    "- When Multiple Linear Regression (MLR) assumptions 1-4 are fulfilled. \n",
    "<center><img src='Material/Topic11_Fig7.png' width='600' height='80'/></center>\n"
   ]
  },
  {
   "cell_type": "markdown",
   "metadata": {
    "slideshow": {
     "slide_type": "slide"
    }
   },
   "source": [
    "## Another quality criteria: consistency\n",
    "\n",
    "- An estimator is consistent if as n (the sample size) tends to infinity, the distribution of $\\hat{\\beta}_j$ collapses to the single point $\\beta_j$.\n",
    "\n",
    "- In other words: consistency means that the estimator is correct if we have an infinetley large sample. \n",
    "\n",
    "- Under assumptions MLR.1-4, $\\hat{\\beta}_j$ is a consistent estimator of $\\beta_j$."
   ]
  },
  {
   "cell_type": "markdown",
   "metadata": {
    "slideshow": {
     "slide_type": "slide"
    }
   },
   "source": [
    "## Hypothesis Testing\n",
    "\n",
    "- Now we know when $\\hat{\\beta}_j$ is correct on average in many samples (i.e., unbiased), but we typically only have one sample.\n",
    "\n",
    "- Can we ever know the exact value of $\\beta_j$? No.\n",
    "\n",
    "- But, under some circumstances we can draw conclusions about the value of $\\beta_j$. For example:\n",
    " - Is $\\beta_j$ 0?\n",
    " - In which interval can we expect $\\beta_j$ to be? (Confidence Interval)"
   ]
  },
  {
   "cell_type": "markdown",
   "metadata": {
    "slideshow": {
     "slide_type": "slide"
    }
   },
   "source": [
    "### Null and alternative Hypothesis\n",
    "\n",
    "- We specify the null and alternative hypothesis. Typically:\n",
    "\n",
    "- Null hypothesis \n",
    " - (H_0): $\\beta_j= 0$ \n",
    "- Alternative hypothesis two sided \n",
    " - (H_1): $\\beta_j \\neq 0$ <right><img src='Material/Topic11_Fig8.png' width='400' height='80'/></right>\n",
    "\n",
    "\n",
    "Note: Sometime the null hypothesis is that $\\beta_j$ is equal to a particular value, and sometimes the alternative hypothesis is one sided. \n",
    "\n"
   ]
  },
  {
   "cell_type": "markdown",
   "metadata": {
    "slideshow": {
     "slide_type": "slide"
    }
   },
   "source": [
    "### Hypothesis Testing\n",
    "\n",
    "- Under which circumstances can we draw conclusions about $\\beta_j$?\n",
    "- If MLR 1-6 are fulfilled. \n",
    "- We have just seen MLR 1-4. Let’s have a look at MLR 5-6"
   ]
  },
  {
   "cell_type": "markdown",
   "metadata": {
    "slideshow": {
     "slide_type": "slide"
    }
   },
   "source": [
    "## Heteroskedasticity\n",
    "\n",
    "- *Assumption MLR.5*: **Homoskedasticity**: The error u has the same variance given any value of the explanatory variables. \n",
    "$$Var(u│x_1, x_2,...,x_k) = \\sigma^2$$\n",
    "\n",
    "- Under assumptions MLR.1-5, OLS estimator is the *Best Linear Unbiased Estimator* (BLUE).  \n",
    "(MLR.1-5 are collectively known as the Gauss-Markov assumptions)\n",
    "\n",
    "- If MLR.5 is violated we have Heteroskedasticity.\n",
    "<center><img src='Material/Topic11_Fig9.png' width='600' height='80'/></center>\n"
   ]
  },
  {
   "cell_type": "markdown",
   "metadata": {
    "slideshow": {
     "slide_type": "slide"
    }
   },
   "source": [
    "<center><img src='Material/Topic11_Fig10.png' width='700' height='80'/></center>"
   ]
  },
  {
   "cell_type": "markdown",
   "metadata": {
    "slideshow": {
     "slide_type": "slide"
    }
   },
   "source": [
    "## Normality (MLR.6)\n",
    "\n",
    "- *Assumption MLR.6*: **Normality**: The population error *u* is *independent* of the explanatory variables $x_1, x_2,...,x_k$ and is normally distributed with zero mean and variance $\\sigma^2$: $u \\sim Normal(0, \\sigma^2)$.\n",
    "\n",
    "Note: The Normality assumption is only necessary in small samples. "
   ]
  },
  {
   "cell_type": "markdown",
   "metadata": {
    "slideshow": {
     "slide_type": "slide"
    }
   },
   "source": [
    "## Why is normality important?\n",
    "\n",
    "- Answer: It implies that the OLS estimator $\\hat{\\beta}_j$ follows a normal distribution too. \n",
    "\n",
    "- And when $\\hat{\\beta}_j$ is normally distributed, our t-statistic is t-distributed. \n",
    "\n",
    "- If our t-statistic is t-distributed we can know the probability of getting the t-statistic that we have if there is no effect (p-values)."
   ]
  },
  {
   "cell_type": "markdown",
   "metadata": {
    "slideshow": {
     "slide_type": "slide"
    }
   },
   "source": [
    "## If MLR 1-6 hold: \n",
    "\n",
    "<center><img src='Material/Topic11_Fig11.png' width='800' height='80'/></center>"
   ]
  },
  {
   "cell_type": "markdown",
   "metadata": {
    "slideshow": {
     "slide_type": "slide"
    }
   },
   "source": [
    "## If MLR.1-6 hold:\n",
    "\n",
    "The ratio of $\\hat{\\beta}_j-\\beta_j$ to the standard deviation follows a standard normal distribution. \n",
    "<center><img src='Material/Topic11_Fig12a.png' width='600' height='40'/></center>\n",
    "\n",
    "The ratio of $\\hat{\\beta}_j-\\beta_j$ to the standard error (called t-statistic) follows a t-distribution.\n",
    "<center><img src='Material/Topic11_Fig12b.png' width='600' height='40'/></center>"
   ]
  },
  {
   "cell_type": "markdown",
   "metadata": {
    "slideshow": {
     "slide_type": "slide"
    }
   },
   "source": [
    "## The t-distribution \n",
    "\n",
    "<center><img src='Material/Topic11_Fig13.png' width='800' height='80'/></center>"
   ]
  },
  {
   "cell_type": "markdown",
   "metadata": {
    "slideshow": {
     "slide_type": "slide"
    }
   },
   "source": [
    "## Hypothesis Testing, outline \n",
    "\n",
    "<center><img src='Material/Topic11_Fig14.png' width='800' height='80'/></center>"
   ]
  },
  {
   "cell_type": "markdown",
   "metadata": {
    "slideshow": {
     "slide_type": "slide"
    }
   },
   "source": [
    "## t test, intuition\n",
    "\n",
    "Our starting point ($H_0$) is usually to assume that the true effect is zero but our estimator is different from zero by chance. \n",
    "\n",
    "However, if the true effect is zero, large and small t-statistics are unlikely.\n",
    "\n",
    "When the t-statistic is large/small enough, we conclude that the true effect is probably not zero and thus reject $H_0$.\n"
   ]
  },
  {
   "cell_type": "markdown",
   "metadata": {
    "slideshow": {
     "slide_type": "slide"
    }
   },
   "source": [
    "## t test, intuition\n",
    "\n",
    "- When is a t-statistic large/small enough? This depends: \n",
    " - Is our alternative hypothesis is one-sided or two sided (typically two sided)\n",
    " - What is the probability we are willing to accept of rejecting  if it is in fact true – the significance level (typically 5%)\n",
    "\n",
    "- In the past we would have looked up a critical value, c, in a statistical table and compared it to our t-statistic.\n",
    "\n",
    "- Today, Stata does this for us automatically.\n"
   ]
  },
  {
   "cell_type": "markdown",
   "metadata": {
    "slideshow": {
     "slide_type": "slide"
    }
   },
   "source": [
    "## Three ways of seeing if $\\beta_j$ is significant\n",
    "\n",
    "1. Look at p-value:  \n",
    "Compare p-value to significance level.  \n",
    "If p-value $\\leq$ significance level $\\Rightarrow$ reject $H_0$.\n",
    "If p-value $>$ significance level $\\Rightarrow$ don't reject $H_0$ (Note: we never accept $H_0$)\n",
    "\n",
    "2. Or, use the rule of thumb for two sided alternatives:  \n",
    "Given a 5% significance level and $df>60$, a t-value lower than -2 or higher than 2 implies statistical significance.\n",
    "\n",
    "3. Or check if 95 Confidence Interval includes 0.\n"
   ]
  },
  {
   "cell_type": "markdown",
   "metadata": {
    "slideshow": {
     "slide_type": "slide"
    }
   },
   "source": [
    "### t-statistic and p-values in Stata\n",
    "\n",
    "<center><img src='Material/Topic11_Fig15.png' width='800' height='80'/></center>"
   ]
  },
  {
   "cell_type": "markdown",
   "metadata": {
    "slideshow": {
     "slide_type": "slide"
    }
   },
   "source": [
    "## A Closer look at MLR assumptions\n",
    "\n",
    "<center><img src='Material/Topic11_Fig16.png' width='800' height='80'/></center>"
   ]
  },
  {
   "cell_type": "markdown",
   "metadata": {
    "slideshow": {
     "slide_type": "slide"
    }
   },
   "source": [
    "## If MLR.1-6 Holds\n",
    "\n",
    "We can use OLS for estimation and hypothesis testing, and all is fine and dandy: OLS is then a very “good” estimator (unbiased, low variance) and it’s easy to test hypotheses. \n",
    "\n",
    "<center><img src='Material/Topic11_Fig17.png' width='300' height='80'/></center>"
   ]
  },
  {
   "cell_type": "markdown",
   "metadata": {
    "slideshow": {
     "slide_type": "slide"
    }
   },
   "source": [
    "## If MLR.1-6 DO NOT hold\n",
    "\n",
    "- We can try to fix it.\n",
    "\n",
    "- Or we have to interpret our results differently. \n",
    "\n",
    "- Let’s have a closer look at the MLR assumptions."
   ]
  },
  {
   "cell_type": "markdown",
   "metadata": {
    "slideshow": {
     "slide_type": "slide"
    }
   },
   "source": [
    "## If MLR.1-6 DO NOT hold\n",
    "\n",
    "<center><img src='Material/Topic11_Fig18.png' width='800' height='80'/></center>"
   ]
  },
  {
   "cell_type": "markdown",
   "metadata": {
    "slideshow": {
     "slide_type": "slide"
    }
   },
   "source": [
    "## What to do if assumptions fail \n",
    "\n",
    "<center><img src='Material/Topic11_Fig19.png' width='800' height='80'/></center>"
   ]
  },
  {
   "cell_type": "markdown",
   "metadata": {
    "slideshow": {
     "slide_type": "slide"
    }
   },
   "source": [
    "## What to do when your estimator is biased?\n",
    "\n",
    "- Include more relevant variables\n",
    " - But, it is often difficult to collect all relevant variables\n",
    "\n",
    "- Use a different method \n",
    " - Differences-in-Differences estimation\n",
    " - First-Difference estimation\n",
    " - Instrumental variable (IV) estimation\n",
    "- These methods only work in specific circumstances --> Check their assumptions!"
   ]
  },
  {
   "cell_type": "markdown",
   "metadata": {
    "slideshow": {
     "slide_type": "slide"
    }
   },
   "source": [
    "## Difference-in-Difference (Diff-in-Diff) estimator, intuition\n",
    "\n",
    "<center><img src='Material/Topic11_Fig20.png' width='800' height='80'/></center>\n",
    "\n",
    "Diff-in-Diff estimator of effect of incinerator: $\\Delta 1981 - \\Delta 1978 = -\\$11,863$"
   ]
  },
  {
   "cell_type": "markdown",
   "metadata": {
    "slideshow": {
     "slide_type": "slide"
    }
   },
   "source": [
    "## Graphical Illustration of Diff-in-Diff\n",
    "\n",
    "<center><img src='Material/Topic11_Fig21.png' width='800' height='80'/></center>\n",
    "\n",
    "**Parallel trends assumption**: The outcome of the treatment and control group would have followed a parallel trend in the absence of the treatment. "
   ]
  },
  {
   "cell_type": "markdown",
   "metadata": {
    "slideshow": {
     "slide_type": "slide"
    }
   },
   "source": [
    "## First-Differences Estimaton (Fixed Effects)\n",
    "\n",
    "- Possible if we have panel data.\n",
    "\n",
    "- We relate changes in X to changes in Y.\n",
    "\n",
    "- Allows us to difference away time constant part of the error term (remember the dog and the scale)."
   ]
  },
  {
   "cell_type": "markdown",
   "metadata": {
    "slideshow": {
     "slide_type": "slide"
    }
   },
   "source": [
    "## IV estimation\n",
    "\n",
    "- Possible to get a causal effect if $x$ is endogenous. \n",
    "\n",
    "- All we need is an instrumental variable ($z$) that fulfills two assumptions:\n",
    "\n",
    "- **instrument relevance**: $Cov(z,x) \\neq 0$\n",
    "- **instrument exogeneity**: $Cov(z,u) = 0$ \n",
    "\n"
   ]
  },
  {
   "cell_type": "markdown",
   "metadata": {
    "slideshow": {
     "slide_type": "slide"
    }
   },
   "source": [
    "## IV estimation\n",
    "\n",
    "- IV estimates are Local Average Treatment Effects (LATEs)\n",
    " - average treatment effect for those who were moved by the instrument (compliers + defiers).\n",
    "\n",
    "- Monotonicity assumption: \n",
    " - instrument influences the endogenous variable only in one direction\n",
    "\n",
    "- If the monotonicity assumption holds, IV estimates the average treatment effect on the treated (ATE)"
   ]
  },
  {
   "cell_type": "markdown",
   "metadata": {
    "slideshow": {
     "slide_type": "slide"
    }
   },
   "source": [
    "## Change Interpretation\n",
    "\n",
    "- Unless you have an experiment, for most research questions it is very difficult to get an unbiased estimator. \n",
    "\n",
    "- But, OLS estimates are still often very interesting even if you can’t interpret them causally.\n"
   ]
  },
  {
   "cell_type": "markdown",
   "metadata": {
    "slideshow": {
     "slide_type": "slide"
    }
   },
   "source": [
    "## Information about Exam"
   ]
  },
  {
   "cell_type": "markdown",
   "metadata": {
    "slideshow": {
     "slide_type": "slide"
    }
   },
   "source": [
    "## Exam Info\n",
    "\n",
    "- Final Test: 60 minutes. See precise details in Blackboard. (Specific time, focus on last parts of course.)\n",
    "\n",
    "- Final MCQ test: 50 minutes. See precise details in Blackboard. ('Any time', covers whole course.) \n",
    "\n",
    "Topic 10 arguing with data (last lecture) will not be assessed.  \n",
    "\n",
    "- You can use a calculator."
   ]
  },
  {
   "cell_type": "markdown",
   "metadata": {
    "slideshow": {
     "slide_type": "slide"
    }
   },
   "source": [
    "### Fill-in-the-blank questions. Numeric questions.\n",
    "\n",
    "- For these, I look for specific numbers, terms or symbols."
   ]
  },
  {
   "cell_type": "markdown",
   "metadata": {
    "slideshow": {
     "slide_type": "slide"
    }
   },
   "source": [
    "### Tutorial questions\n",
    "\n",
    "- These questions will be very similar or even identical to questions from tutorial exercises.\n",
    "\n",
    "- They are supposed to be easy points for students who study! \n",
    " - Have a look at your tutorial exercises! "
   ]
  },
  {
   "cell_type": "markdown",
   "metadata": {
    "slideshow": {
     "slide_type": "slide"
    }
   },
   "source": [
    "## Study for Exam\n",
    "\n",
    "- Review slides\n",
    "- Review test, quizzes and assignment. \n",
    "- Many questions on the exam will be very similar to questions on the test/quizzes/assignment.\n",
    "- Review tutorial exercises.\n",
    "\n",
    "\n",
    "- Online tests, so they are designed to be difficult to complete in the time available.\n",
    "- Randomized questions. So your test will not be identical to those of other students.\n"
   ]
  },
  {
   "cell_type": "markdown",
   "metadata": {
    "slideshow": {
     "slide_type": "slide"
    }
   },
   "source": [
    "### Guidelines for answering exam questions\n",
    "\n",
    "- Be precise and to the point. \n",
    "\n",
    "- Avoid irrelevant and wrong explanations.\n",
    "\n",
    "- Read the instructions and questions carefully.\n",
    "\n",
    "- You might not have time to answer all questions $\\Rightarrow$ Answer easy questions first. "
   ]
  },
  {
   "cell_type": "markdown",
   "metadata": {
    "slideshow": {
     "slide_type": "slide"
    }
   },
   "source": [
    "### Guidelines for answering exam questions\n",
    "\n",
    "- **Try to be to the point** and answer only what the questions ask. For most questions this will be a one word or one sentence answer. \n",
    "\n",
    "- Example: **How many coefficients** in this model (excluding the constant) are significant at the 20% level? [1 mark]\n",
    " - Student answers:  \n",
    "  Educ, exper, exper2 are all significant at the 1% level and numdep is significant at the 20% level.  \n",
    "  All coefficients are significant at the 20% level except the nonwhite coefficient, which has a p-value that is greater than 0.2.\n",
    " - My answer:  \n",
    "4."
   ]
  },
  {
   "cell_type": "markdown",
   "metadata": {
    "slideshow": {
     "slide_type": "slide"
    }
   },
   "source": [
    "### Example of Wrong and Irrelevant Answer\n",
    "\n",
    "- Question: **How many coefficients** in this model (excluding the constant) are significant at the 20% level? [2 mark]\n",
    "\n",
    "- Student answer: 4, because the R-squared is 0.4\n",
    "\n",
    "- Comment: 4 is correct, but the explanation is wrong. This wrong and irrelevant addition would lead to reduction of marks. "
   ]
  },
  {
   "cell_type": "markdown",
   "metadata": {
    "slideshow": {
     "slide_type": "slide"
    }
   },
   "source": [
    "### Guidelines for answering exam questions\n",
    "\n",
    "- I will try to mark important words, but still **read the questions carefully**. \n",
    "\n",
    "- Example:\n",
    "<center><img src='Material/Topic11_Fig22.png' width='600' height='80'/></center>\n"
   ]
  },
  {
   "cell_type": "markdown",
   "metadata": {
    "slideshow": {
     "slide_type": "slide"
    }
   },
   "source": [
    "### Exam grading/sample answers\n",
    "\n",
    "- I have a document with exam answers. [More accurately, they are built into blackboard.]\n",
    "\n",
    "- The answers on this document are very short: often one number or a few words, never longer than 2 sentences.\n",
    "\n",
    "- No marks will be given for workings. \n",
    "\n",
    "- You will be able to see what you answered, as well as correct answer, for most of the questions. But not until a day or two after all students have finished."
   ]
  },
  {
   "cell_type": "markdown",
   "metadata": {
    "slideshow": {
     "slide_type": "slide"
    }
   },
   "source": [
    "### Questions in the next weeks? (1)\n",
    "\n",
    "- There will be some kind of office hours support early next week. A Blackboard announcement of details will be made later this week."
   ]
  },
  {
   "cell_type": "markdown",
   "metadata": {
    "slideshow": {
     "slide_type": "slide"
    }
   },
   "source": [
    "## Questions in the next weeks? (2)\n",
    "\n",
    "- Use the discussion board and help each other out.\n",
    "<center><img src='Material/Topic11_Fig23.png' width='600' height='80'/></center>\n",
    "\n",
    "- I have little time next weeks, but can tune in to the discussion from time to time."
   ]
  },
  {
   "cell_type": "markdown",
   "metadata": {
    "slideshow": {
     "slide_type": "slide"
    }
   },
   "source": [
    "## Final Words\n",
    "\n",
    "- I enjoyed this class. I hope you have learned something that you remember after the exam.\n",
    "\n",
    "- Special thanks to those who turned up in person. Made teaching much nicer for me.\n",
    "\n",
    "- Any (positive or negative) feedback on the course? Great! Talk to me or send me an email. \n",
    "\n",
    "- Good luck with the exam!"
   ]
  },
  {
   "cell_type": "markdown",
   "metadata": {
    "slideshow": {
     "slide_type": "slide"
    }
   },
   "source": [
    "## Review/other"
   ]
  }
 ],
 "metadata": {
  "celltoolbar": "Slideshow",
  "kernelspec": {
   "display_name": "Julia 1.0.3",
   "language": "julia",
   "name": "julia-1.0"
  },
  "language_info": {
   "file_extension": ".jl",
   "mimetype": "application/julia",
   "name": "julia",
   "version": "1.0.3"
  }
 },
 "nbformat": 4,
 "nbformat_minor": 1
}
