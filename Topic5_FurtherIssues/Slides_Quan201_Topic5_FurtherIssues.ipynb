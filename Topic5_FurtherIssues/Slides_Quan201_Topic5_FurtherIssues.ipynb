{
 "cells": [
  {
   "cell_type": "code",
   "execution_count": 1,
   "metadata": {
    "slideshow": {
     "slide_type": "skip"
    }
   },
   "outputs": [
    {
     "ename": "LoadError",
     "evalue": "syntax: extra token \"IPython\" after end of expression",
     "output_type": "error",
     "traceback": [
      "syntax: extra token \"IPython\" after end of expression",
      ""
     ]
    }
   ],
   "source": [
    "from IPython.display import HTML\n",
    "HTML('''<script>\n",
    "  function code_toggle() {\n",
    "    if (code_shown){\n",
    "      $('div.input').hide('500');\n",
    "      $('#toggleButton').val('Show Code')\n",
    "    } else {\n",
    "      $('div.input').show('500');\n",
    "      $('#toggleButton').val('Hide Code')\n",
    "    }\n",
    "    code_shown = !code_shown\n",
    "  }\n",
    "\n",
    "  $( document ).ready(function(){\n",
    "    code_shown=false;\n",
    "    $('div.input').hide()\n",
    "  });\n",
    "</script>\n",
    "<form action=\"javascript:code_toggle()\"><input type=\"submit\" id=\"toggleButton\" value=\"Show Code\"></form>''')"
   ]
  },
  {
   "cell_type": "code",
   "execution_count": 6,
   "metadata": {
    "scrolled": true,
    "slideshow": {
     "slide_type": "skip"
    }
   },
   "outputs": [
    {
     "ename": "LoadError",
     "evalue": "syntax: extra token \"as\" after end of expression",
     "output_type": "error",
     "traceback": [
      "syntax: extra token \"as\" after end of expression",
      ""
     ]
    }
   ],
   "source": [
    "#%matplotlib inline\n",
    "import matplotlib.pyplot as plt\n",
    "import matplotlib.mlab as mlab\n",
    "import matplotlib.patches as patches\n",
    "#plt.style.reload_library()\n",
    "#plt.style.use(\"ggplot\")\n",
    "from IPython.display import (\n",
    "    display_pretty, display_html, display_jpeg,\n",
    "    display_png, display_json, display_latex, display_svg\n",
    ")\n",
    "#import numpy as np\n",
    "#import pandas as pd\n",
    "#from pandas_datareader import data, wb\n",
    "#from scipy import linalg, optimize\n",
    "#from datetime import datetime, date, timedelta\n",
    "from IPython.display import Audio\n",
    "from IPython.display import YouTubeVideo\n",
    "from IPython.display import HTML\n",
    "from IPython.display import Latex\n",
    "from IPython.display import Image\n",
    "from IPython.display import display\n",
    "from IPython.display import SVG\n",
    "\n",
    "import Dates\n"
   ]
  },
  {
   "cell_type": "markdown",
   "metadata": {
    "slideshow": {
     "slide_type": "slide"
    }
   },
   "source": [
    "### <center>QUAN201 - Introduction to Econometrics</center>\n",
    "#### <center>Topic 5: Further Issues</center>\n",
    "datetoday = Dates.datetime.today().strftime(\"%m/%d/%Y\")\n",
    "#### <center>datetoday</center>"
   ]
  },
  {
   "cell_type": "markdown",
   "metadata": {
    "slideshow": {
     "slide_type": "slide"
    }
   },
   "source": [
    "### Further Issues\n",
    "- Quadratic relationships\n",
    "- Exponential relationships \n",
    "- Consistency\n",
    "- Adjusted R-squared\n",
    "- Data scaling\n",
    "\n",
    "\n",
    "Reference: Wooldridge, Chapters 5-6"
   ]
  },
  {
   "cell_type": "markdown",
   "metadata": {
    "slideshow": {
     "slide_type": "slide"
    }
   },
   "source": [
    "### Linearity Assumption\n",
    "\n",
    "- This model implies that the effect of x on y is linear (i.e., the same for all levels of x).\n",
    "<center> $y=\\beta_0 + \\beta_1 x + u$ </center>\n",
    "\n",
    "- Do all DGPs follow this form?\n",
    "\n",
    "- Will an estimate of a linear effect always be the best description of the data?"
   ]
  },
  {
   "cell_type": "markdown",
   "metadata": {
    "slideshow": {
     "slide_type": "slide"
    }
   },
   "source": [
    "Can we estimate a simple linear regression in this case?\n",
    "<center><img src='Material/Topic5_Fig1.png' width='600' height='80'/></center>"
   ]
  },
  {
   "cell_type": "markdown",
   "metadata": {
    "slideshow": {
     "slide_type": "slide"
    }
   },
   "source": [
    "Is the OLS regression line a good description of the data?\n",
    "<center><img src='Material/Topic5_Fig2.png' width='600' height='80'/></center>"
   ]
  },
  {
   "cell_type": "markdown",
   "metadata": {
    "slideshow": {
     "slide_type": "slide"
    }
   },
   "source": [
    "### Expressing quadratic DGPs by adding a square term\n",
    "\n",
    "$$y=\\beta_0+\\beta_1 x +\\beta_2 x^2+u$$\n",
    "\n",
    "- This way we can express u-shaped and inverse-u-shaped relationships.\n",
    "\n",
    "For positive values of $x$:\n",
    "\n",
    "- If $\\beta_1>0$ and $\\beta_2<0$ \n",
    "\n",
    "<center><img src='Material/Topic5_Fig3a.png' width='100' height='80'/></center>\n",
    "\n",
    "- If $\\beta_1<0$ and $\\beta_2>0$ \n",
    "<center><img src='Material/Topic5_Fig3b.png' width='100' height='80'/></center>"
   ]
  },
  {
   "cell_type": "markdown",
   "metadata": {
    "slideshow": {
     "slide_type": "slide"
    }
   },
   "source": [
    "<center><img src='Material/Topic5_Fig4.png' width='600' height='80'/></center>"
   ]
  },
  {
   "cell_type": "markdown",
   "metadata": {
    "slideshow": {
     "slide_type": "slide"
    }
   },
   "source": [
    "#### Marginal effect quadratic relationships in the DGP\n",
    "\n",
    "$$y=\\beta_0+\\beta_1 x +\\beta_2 x^2+u$$\n",
    "\n",
    "- Note that $\\beta_1$ and $\\beta_2$ always have to be interpreted $together$. We get the marginal effect of $x$ on $y$ by taking the first derivative with respect to $x$,\n",
    "$$ \\frac{\\Delta y}{\\Delta x} \\simeq \\beta_1+2\\beta_2 x$$\n",
    "- The maximum/minimum is at the point \n",
    "$$ x= | \\beta_1 / (2\\beta_2) | $$\n",
    "\n"
   ]
  },
  {
   "cell_type": "markdown",
   "metadata": {
    "slideshow": {
     "slide_type": "slide"
    }
   },
   "source": [
    "Let's estimate the following model:\n",
    "$$wage= \\beta_0+\\beta_1 exper +\\beta_2 exper^2+u$$\n",
    "\n",
    "Step 1: Generate the squared term ($exper^2$). [Stata: gen exper2=exper*exper]\n",
    "<center><img src='Material/Topic5_Fig5.png' width='600' height='80'/></center>"
   ]
  },
  {
   "cell_type": "markdown",
   "metadata": {
    "slideshow": {
     "slide_type": "slide"
    }
   },
   "source": [
    "Step 2: Include the original variable and the square term in the regression\n",
    "\n",
    "<center><img src='Material/Topic5_Fig6.png' width='600' height='80'/></center>\n",
    "\n",
    "The estimated effect of experience first increases, and then decreases with experience.\n",
    "\n",
    "Note: Because the coefficient exper2 is not significant (p-value 0.171) we can’t reject the null hypothesis that the effect of experience is linear. \n",
    "\n",
    "However, we know from other datasets that the effect of experience on wage is  inverse u-shaped."
   ]
  },
  {
   "cell_type": "markdown",
   "metadata": {
    "slideshow": {
     "slide_type": "slide"
    }
   },
   "source": [
    "To get at the marginal effect of experience on *predicted* wage, we take the first derivative.\n",
    "$$ \\frac{\\Delta \\widehat{wage}}{\\Delta exper} = \\hat{\\beta}_1+2\\hat{\\beta}_2 exper = 18.84-2*0.79*exper $$\n",
    "The *estimated* effect of going from 0 to 1 year of experience is equal to approximately $\\$18.84$.  \n",
    "The *estimated* effect of going from 20 to 21 years of experience is equal to approximately $-\\$12.76$.  \n",
    "The *estimated* effect of experience is $\\$0$ at $\\frac{18.84}{1.58}=11.73$ years.  \n",
    "\n",
    "<center><img src='Material/Topic5_Fig7.png' width='550' height='70'/></center>\n",
    "\n",
    "The maximum/minimum is at the point $|\\frac{\\beta_1}{2\\beta_2}|$\n",
    "\n"
   ]
  },
  {
   "cell_type": "markdown",
   "metadata": {
    "slideshow": {
     "slide_type": "slide"
    }
   },
   "source": [
    "### Recall MLR.1\n",
    "\n",
    "---\n",
    "Assumption MLR.1:\n",
    "The model is **linear in parameters**: $y=\\beta_0+\\beta_1 x_1+\\beta_2 x_2 +...+\\beta_k x_k + u$\n",
    "\n",
    "---\n",
    "\n",
    "- This means we can estimate any model with OLS --even nonlinear relationships-- as long as we can express it with linear parameters (i.e. betas that linearly affect variables).\n",
    "\n",
    "- Example of relationship that is **not** linear in parameters:\n",
    "$$ f(x,\\beta) = \\frac{\\beta_1 x}{\\beta_2 + x}$$"
   ]
  },
  {
   "cell_type": "markdown",
   "metadata": {
    "slideshow": {
     "slide_type": "slide"
    }
   },
   "source": [
    "Is this a quadratic relationship?  \n",
    "Can we estimate a simple linear regression with this data?\n",
    "<center><img src='Material/Topic5_Fig8.png' width='600' height='80'/></center>\n"
   ]
  },
  {
   "cell_type": "markdown",
   "metadata": {
    "slideshow": {
     "slide_type": "slide"
    }
   },
   "source": [
    "Is this OLS regression line a good description of the data?\n",
    "<center><img src='Material/Topic5_Fig9.png' width='600' height='80'/></center>"
   ]
  },
  {
   "cell_type": "markdown",
   "metadata": {
    "slideshow": {
     "slide_type": "slide"
    }
   },
   "source": [
    "### Recap: (compound) interest.\n",
    "growth = (1+return)$^x$\n",
    "\n",
    "- Let's say the interest rate is 100%, which is paid once a year.\n",
    "<center><img src='Material/Topic5_Fig10.png' width='600' height='80'/></center>\n",
    "\n",
    "growth = (1+100/100)$^x$=2"
   ]
  },
  {
   "cell_type": "markdown",
   "metadata": {
    "slideshow": {
     "slide_type": "slide"
    }
   },
   "source": [
    "### Compound interest.\n",
    "- (Annual) Interest rate 100%. Now you get paid on your interest every 6 months.\n",
    "<center><img src='Material/Topic5_Fig11.png' width='600' height='80'/></center>\n",
    "\n",
    "growth = (1+50/100)$^2$=2.25  \n",
    "[50=half of 100, as 6 months is half of one year]"
   ]
  },
  {
   "cell_type": "markdown",
   "metadata": {
    "slideshow": {
     "slide_type": "slide"
    }
   },
   "source": [
    "### Compound interest.\n",
    "- (Annual) Interest rate 100%. Now you get paid on your interest every 4 months.\n",
    "<center><img src='Material/Topic5_Fig12.png' width='600' height='80'/></center>\n",
    "\n",
    "growth = (1+33.3/100)$^3$=2.237037...  \n",
    "[33.3=one third of 100, as 4 months is one third of one year]"
   ]
  },
  {
   "cell_type": "markdown",
   "metadata": {
    "slideshow": {
     "slide_type": "slide"
    }
   },
   "source": [
    "### Compound interest.\n",
    "- If the rate=1 (ie. 100%) and interest period is indefinitely small, the growth rate is equal to 2.71829...$\\equiv e$.\n",
    "$$ \\text{Amount(t)=Initial amount} * e^{rate*time} $$\n",
    "\n",
    "- In words: e is the rate of growth if we continuously compont 100% return.\n",
    "$$ growth= e=\\lim_{n \\to \\infty} \\left(1+\\frac{1}{n} \\right)^n$$"
   ]
  },
  {
   "cell_type": "markdown",
   "metadata": {
    "slideshow": {
     "slide_type": "slide"
    }
   },
   "source": [
    "### Generalization\n",
    "- We can generalize the continuous growth process to other rates.\n",
    "$$ y_t=y_0 * e^{rate*time} $$\n",
    "\n",
    "- Changes in the amount (expressed as a ratio)\n",
    "$$ \\text{growth of y} = e^{rate*time} $$\n",
    "\n",
    "- Some changes are not with respect to time, but other variables. We can therefore generalize:\n",
    "$$ \\text{growth of y} = e^{rate*x} $$"
   ]
  },
  {
   "cell_type": "markdown",
   "metadata": {
    "slideshow": {
     "slide_type": "slide"
    }
   },
   "source": [
    "### Exponential Relationships\n",
    "- Some DGPs can be characterized by a continuous growth process. In this kind of process the increase depends on the level of y.\n",
    "\n",
    "- Examples\n",
    " - Interest\n",
    " - GDP\n",
    " - Human populations\n",
    " - Bacteria populations"
   ]
  },
  {
   "cell_type": "markdown",
   "metadata": {
    "slideshow": {
     "slide_type": "slide"
    }
   },
   "source": [
    "<center><img src='Material/Topic5_Fig13.png' width='600' height='80'/></center>"
   ]
  },
  {
   "cell_type": "markdown",
   "metadata": {
    "slideshow": {
     "slide_type": "slide"
    }
   },
   "source": [
    "### Exponential GDP\n",
    "- A DGP that is characterized by a continuous growth process can be expressed like this:\n",
    "$$ y= e^{\\beta_0 + \\beta_1 x + u} $$\n",
    "\n",
    "- This is currently non-linear in parameters. But..."
   ]
  },
  {
   "cell_type": "markdown",
   "metadata": {
    "slideshow": {
     "slide_type": "slide"
    }
   },
   "source": [
    "### Transform variables...\n",
    "..to express as a DGP that is linear in parameters (see MLR.1).\n",
    "\n",
    "- If the DGP has the functional form\n",
    "$$ y= e^{\\beta_0 + \\beta_1 x + u} $$\n",
    "\n",
    "- We can take (natural) log of both sides to get\n",
    "$$ ln(y)=\\beta_0 + \\beta_1 x + u $$"
   ]
  },
  {
   "cell_type": "markdown",
   "metadata": {
    "slideshow": {
     "slide_type": "slide"
    }
   },
   "source": [
    "<center><img src='Material/Topic5_Fig14.png' width='600' height='80'/></center>"
   ]
  },
  {
   "cell_type": "markdown",
   "metadata": {
    "slideshow": {
     "slide_type": "slide"
    }
   },
   "source": [
    "### Marginal Effect\n",
    "\n",
    "- **DGP** $y=e^{\\beta_0+\\beta_1+u}$\n",
    "- If $\\beta_1=1$, if $x$ increases by 1, $y$ increases by a factor of $e^{\\beta_1*1}=e^1=2.718$.\n",
    "- If $\\beta_1=0.08$, if $x$ increases by 1, $y$ increases by a factor of $e^{\\beta_1*1}=e^{0.08}=1.083$ (approx. 8%).\n",
    "- *Rule of thumb for the above DGP*: for small changes, $\\beta_j$ is a good approximation of the percentage changes in $y$."
   ]
  },
  {
   "cell_type": "markdown",
   "metadata": {
    "slideshow": {
     "slide_type": "slide"
    }
   },
   "source": [
    "### Return to Education\n",
    "- If a one-year increase in education increases the wage by a **constant dollar amount**, then the DGP would look like\n",
    "$$ y= \\beta_0 + \\beta_1 x + u $$\n",
    "\n",
    "- If a one-year increase in education increases the wage by a **constant percentage**, then the DGP would look like\n",
    "$$ y= e^{\\beta_0 + \\beta_1 x + u} $$"
   ]
  },
  {
   "cell_type": "markdown",
   "metadata": {
    "slideshow": {
     "slide_type": "slide"
    }
   },
   "source": [
    "Let's estimate the following model: $wage=\\beta_0 + \\beta_1 educ + u$\n",
    "\n",
    "<center><img src='Material/Topic5_Fig15.png' width='600' height='80'/></center>\n",
    "\n",
    "A one-year increase in education increases *predicted* hourly wage by $\\$0.54$.  \n",
    "[Note: deliberately estimating what we suspect is a 'wrong/misspecified' model.]"
   ]
  },
  {
   "cell_type": "markdown",
   "metadata": {
    "slideshow": {
     "slide_type": "slide"
    }
   },
   "source": [
    "Let's estimate the following model: $log(wage)=\\beta_0 + \\beta_1 educ + u$\n",
    "\n",
    "<center><img src='Material/Topic5_Fig15b.png' width='600' height='80'/></center>\n",
    "\n",
    "A one-year increase in education increases *predicted* hourly wage by approximately $8.3\\%$.\n",
    "\n",
    "Comparing the R-squared of the two regressions we can see that the log(wage) model \n",
    "fits the data better."
   ]
  },
  {
   "cell_type": "markdown",
   "metadata": {
    "slideshow": {
     "slide_type": "slide"
    }
   },
   "source": [
    "Wage and Education\n",
    "<center><img src='Material/Topic5_Fig16.png' width='600' height='80'/></center>\n"
   ]
  },
  {
   "cell_type": "markdown",
   "metadata": {
    "slideshow": {
     "slide_type": "slide"
    }
   },
   "source": [
    "### Interpretation of log-level models\n",
    "\n",
    "- **Rule of thumb**: for small values of $\\beta_j$, $\\beta_j$ is a good approximation of percentage changes in y.\n",
    "\n",
    "- This percentage approximation is only good for small values of $\\beta_j$."
   ]
  },
  {
   "cell_type": "markdown",
   "metadata": {
    "slideshow": {
     "slide_type": "slide"
    }
   },
   "source": [
    "### Calculating the exact percentage difference from a log difference\n",
    "\n",
    "- General Estimated model: $ log(y)= \\beta_0 + \\beta_1 x_1 + \\beta_2 x_2 + u $\n",
    "- You can calculate the exact percentage change in $y$ in response to change $\\Delta x_j$ using the formula:\n",
    "$$ 100*(e^{\\beta_j \\Delta x_j}-1) $$\n",
    "- Note: the exact percentage effect of increasing and decreasing $x_j$ are not the same."
   ]
  },
  {
   "cell_type": "markdown",
   "metadata": {
    "slideshow": {
     "slide_type": "slide"
    }
   },
   "source": [
    "Recall the following regression: $log(wage)=\\beta_0 + \\beta_1 educ + u$\n",
    "\n",
    "<center><img src='Material/Topic5_Fig15b.png' width='600' height='80'/></center>\n",
    "\n",
    "- A *one-year increase* in education increases *predicted* hourly wage by $100*(e^{0.083*1}-1)=8.7$. So, 8.7%.\n",
    "- A *one-year decrease* in education increases *predicted* hourly wage by $100*(e^{0.083*(-1)}-1)=-8$. So, -8%.\n",
    "- A *ten-year increase* in education increases *predicted* hourly wage by $100*(e^{0.083*10}-1)=129$. So, 129%.\n"
   ]
  },
  {
   "cell_type": "markdown",
   "metadata": {
    "slideshow": {
     "slide_type": "slide"
    }
   },
   "source": [
    "## Interpretation of log-models\n",
    "\n",
    "\n",
    "<center><img src='Material/Topic5_Fig17a.png' width='600' height='80'/></center>\n"
   ]
  },
  {
   "cell_type": "markdown",
   "metadata": {
    "slideshow": {
     "slide_type": "slide"
    }
   },
   "source": [
    "### Further points on log models\n",
    "- They often lead to less heteroskedasticity.\n",
    "- Estimates are less sensitive to large outliers.\n",
    "- Rule of thumb: logs are often used when a variable is a positive dollar (or any other currency) amount.\n",
    "- We cannot take the log of a negative number, or of zeros. \n",
    "  - If y is sometimes zero but never negative, we sometimes use $log(1+y)$."
   ]
  },
  {
   "cell_type": "markdown",
   "metadata": {
    "slideshow": {
     "slide_type": "slide"
    }
   },
   "source": [
    "## How to decide on the functional form\n",
    "\n",
    "- Our starting point is usually to assume that the relationship is linear. But this is not always the case. When deciding on the functional form of your model you can:\n",
    " - think about the DGP.\n",
    " - get insight from theory or other empirical evidence (e.g., the effect of age and experience is typically quadratic)\n",
    " - visually inspect the data (e.g., with scatterplots)\n",
    " - try different functional forms and compare the R-squared.\n",
    " - Formally test for functional form misspecification (e.g. regression specification error test, RESET, textbook Chapter 9; not covered in this course)."
   ]
  },
  {
   "cell_type": "markdown",
   "metadata": {
    "slideshow": {
     "slide_type": "slide"
    }
   },
   "source": [
    "## Consistency\n",
    "- Chapter 5 introduces the concept of **consistency**:\n",
    " - The estimator becomes more and more *tightly distributed* around the underlying parameter as the sample grows.\n",
    " \n",
    "- As $n$ (the sample size) tends to infinity, the distribution of $\\hat{\\beta}_j$ collapses to the single point $\\beta_j$.\n",
    "- This means that we can make our estimator arbitrarily close to $\\beta_j$ if we can collect as much data as we want.\n",
    "- Under assumptions MLR.1-4, $\\hat{\\beta_j}$ is a consistent estimator of $\\beta_j$."
   ]
  },
  {
   "cell_type": "markdown",
   "metadata": {
    "slideshow": {
     "slide_type": "slide"
    }
   },
   "source": [
    "<center><img src='Material/Topic5_Fig18.png' width='600' height='80'/></center>\n"
   ]
  },
  {
   "cell_type": "markdown",
   "metadata": {
    "slideshow": {
     "slide_type": "slide"
    }
   },
   "source": [
    "#### Review (1/2)\n",
    "What is the functional form of the relationship between x and y?\n",
    "\n",
    "Write down an econometric model that describes this relationship?\n",
    "\n",
    "How would you estimate it?\n",
    "\n",
    "<center><img src='Material/Topic5_Fig19.png' width='600' height='80'/></center>\n",
    "\n",
    "\n"
   ]
  },
  {
   "cell_type": "markdown",
   "metadata": {
    "slideshow": {
     "slide_type": "slide"
    }
   },
   "source": [
    "#### Review (2/2)\n",
    "What is the functional form of the relationship between x and y?\n",
    "\n",
    "Write down an econometric model that describes this relationship?\n",
    "\n",
    "How would you estimate it?\n",
    "\n",
    "<center><img src='Material/Topic5_Fig20.png' width='600' height='80'/></center>\n",
    "\n",
    "\n"
   ]
  },
  {
   "cell_type": "markdown",
   "metadata": {
    "slideshow": {
     "slide_type": "slide"
    }
   },
   "source": [
    "## Consistency of $\\hat{\\beta}_j$\n",
    "\n",
    "\n",
    "- Good news as n gets very large! The assumptions needed for consistency are less strict than the assumptions needed for unbiasedness.\n",
    "\n",
    "---\n",
    "MLR.4': $E(u)=0$ and $Cov(x_j,u)=0$, for $j=1,2,...,k$\n",
    "\n",
    "---\n",
    "- Under MLR.1-3 and MLR.4': $\\hat{\\beta}_j$ is a consistent estimator of $\\beta_j$."
   ]
  },
  {
   "cell_type": "markdown",
   "metadata": {
    "slideshow": {
     "slide_type": "slide"
    }
   },
   "source": [
    "## Adjusted R-squared\n",
    "- We have seen that Stata reports a number called \"*adjusted R-squared*\".\n",
    "- This is an alternative measure of the goodness-of-fit which penalizes the inclusion of additional variables.\n",
    "- The adjusted R-squared can decrease as you add more explanatory variables."
   ]
  },
  {
   "cell_type": "markdown",
   "metadata": {
    "slideshow": {
     "slide_type": "slide"
    }
   },
   "source": [
    "## Comparing (Traditional) R-squared and Adjusted R-squared\n",
    "\n",
    "(Traditional) R-squared: $R^2 = 1-\\frac{SSR/n}{SST/n}$\n",
    "\n",
    "Adjusted R-squared: $\\bar{R}^2 = 1-\\frac{SSR/(n-{\\color{red}k}-1)}{SST/n-1}$\n",
    "\n",
    "- Adjusted R-squared penalizes inclusion of more variables (since $k$ increases).\n",
    "- Adjusted R-squared can even become negative - a very poor model fit!\n",
    "- Adding an irrelevant variable $x$ (whose coefficient is zero) reduces the adjusted R-squared.\n",
    "- Adjusted R-squared is occasionally used to choose between models."
   ]
  },
  {
   "cell_type": "markdown",
   "metadata": {
    "slideshow": {
     "slide_type": "slide"
    }
   },
   "source": [
    "<center><img src='Material/Topic5_Fig21.png' width='600' height='80'/></center>\n",
    "\n",
    "\n"
   ]
  },
  {
   "cell_type": "markdown",
   "metadata": {
    "slideshow": {
     "slide_type": "slide"
    }
   },
   "source": [
    "### Effects of Data Scaling\n",
    "(e.g., what if we use 100x instead of x; measure x in cents instead of dollars)\n",
    "\n",
    "- Everything we expect to happen, does happen.\n",
    " - Coefficients, standard errors, and confidence intervals change in way that preserves their meanings.\n",
    " - t-statistics, F-statistics, p-values and $R^2$ remain unchanged."
   ]
  },
  {
   "cell_type": "markdown",
   "metadata": {
    "slideshow": {
     "slide_type": "slide"
    }
   },
   "source": [
    "### Data Scaling, an example\n",
    "\n",
    "- We are interested in the effects of smoking during pregnancy ($cigs$) and family income ($faminc$) on birthweight ($bwght$):\n",
    "$$\\widehat{bwght} = \\hat{\\beta}_0 + \\hat{\\beta}_1 cigs + \\hat{\\beta}_2 faminc$$\n",
    "\n",
    "- $bwght$ is measured in ounces.\n",
    "- $cigs$ is cigarettes per day during pregnancy.\n",
    "- $faminc$ is measured in thousands of dollars."
   ]
  },
  {
   "cell_type": "markdown",
   "metadata": {
    "slideshow": {
     "slide_type": "slide"
    }
   },
   "source": [
    "- We are interested in the effects of smoking during pregnancy ($cigs$) and family income ($faminc$) on birthweight ($bwght$):\n",
    "<center><img src='Material/Topic5_Fig22.png' width='600' height='80'/></center>\n",
    "\n",
    "- $bwght$ is measured in ounces.\n",
    "- $cigs$ is cigarettes per day during pregnancy.\n",
    "- $faminc$ is measured in thousands of dollars.\n",
    "\n",
    "Interpret the estimated coefficients."
   ]
  },
  {
   "cell_type": "markdown",
   "metadata": {
    "slideshow": {
     "slide_type": "slide"
    }
   },
   "source": [
    "We are interested in the effects of smoking during pregnancy ($cigs$) and family income ($faminc$) on birthweight ($bwght$):\n",
    "<center><img src='Material/Topic5_Fig23.png' width='600' height='80'/></center>\n",
    "Our estimates predict that smoking one more cigarette per day decreases birth weight by 0.46 ounces. \n",
    "\n",
    "---\n",
    "\n",
    "Let’s change $bwght$ from ounces to pounds (1 pound = 16 ounces)\n",
    "<center><img src='Material/Topic5_Fig24.png' width='600' height='80'/></center>\n",
    "Our estimates predict that smoking one more cigarette per day decreases birth weight by 0.0289 pounds. \n"
   ]
  },
  {
   "cell_type": "markdown",
   "metadata": {
    "slideshow": {
     "slide_type": "slide"
    }
   },
   "source": [
    "We are interested in the effects of smoking during pregnancy ($cigs$) and family income ($faminc$) on birthweight ($bwght$):\n",
    "<center><img src='Material/Topic5_Fig23.png' width='600' height='80'/></center>\n",
    "Our estimates predict that  smoking one more cigarette per day decreases birth weight by 0.46 ounces. (as before)\n",
    "\n",
    "---\n",
    "\n",
    "Let’s change **$cigs$** from to packs of cigarettes (1 ppack = 20 cigarettes)\n",
    "<center><img src='Material/Topic5_Fig25.png' width='600' height='80'/></center>\n",
    "Our estimates predict that smoking one more pack of cigarettes per day decreases birth weight by 9.2 ounces. \n"
   ]
  },
  {
   "cell_type": "markdown",
   "metadata": {
    "slideshow": {
     "slide_type": "slide"
    }
   },
   "source": [
    "## Review/Other"
   ]
  },
  {
   "cell_type": "markdown",
   "metadata": {
    "slideshow": {
     "slide_type": "slide"
    }
   },
   "source": [
    "### Most Important Formulas I\n",
    "\n",
    "Slope coefficient of *Simple* Regression Model:\n",
    "$$ \\hat{\\beta}_1= \\frac{Cov(x,y)}{Var(x)} $$\n",
    "\n",
    "Constant of a Simple Regression Model:\n",
    "$$ \\hat{\\beta}_0= \\bar{y}-\\hat{\\beta}_1 \\bar{x} $$\n"
   ]
  },
  {
   "cell_type": "markdown",
   "metadata": {
    "slideshow": {
     "slide_type": "slide"
    }
   },
   "source": [
    "### Most Important Formulas II\n",
    "\n",
    "Variance of the OLS estimator:\n",
    "- Simple regression model:\n",
    "$$ Var(\\hat{\\beta}_1)= \\frac{\\sigma^2}{\\sum_{i=1}^n (x_i-\\bar{x})^2} $$\n",
    "\n",
    "- Multiple Regression Model:\n",
    "$$ Var(\\hat{\\beta}_j)= \\frac{\\sigma^2}{SST_j (1-R^2_j)} $$\n"
   ]
  },
  {
   "cell_type": "markdown",
   "metadata": {
    "slideshow": {
     "slide_type": "slide"
    }
   },
   "source": [
    "### Most Important Formulas III\n",
    "\n",
    "Standard Errors of the OLS estimator:\n",
    "$$ se(\\hat{\\beta}_j)= \\frac{\\hat{\\sigma}^2}{\\sqrt{SST_j (1-R^2_j})} $$\n",
    "\n",
    "t-statistic/t-ratio:\n",
    "- The standard case, $H0: \\beta_j=0$\n",
    "$$ t_{\\hat{\\beta}_j}= \\frac{\\hat{\\beta}_j}{se(\\hat{\\beta}_j)}$$\n",
    "- The case, $H0: \\beta_j=a_j$\n",
    "$$ t_{\\hat{\\beta}_j}= \\frac{\\hat{\\beta}_j-a_j}{se(\\hat{\\beta}_j)}$$\n"
   ]
  },
  {
   "cell_type": "markdown",
   "metadata": {
    "slideshow": {
     "slide_type": "slide"
    }
   },
   "source": [
    "### Most Important Formulas IV\n",
    "\n",
    "- R-squared\n",
    "$$ R^2 \\equiv \\frac{SSE}{SST} = 1-\\frac{SSR}{SST}$$\n",
    "- **Total** Sum of Squares, SST\n",
    "$$ SST \\equiv \\sum_{i=1}^n (y_i-\\bar{y})^2$$\n",
    "- **Explained** Sum of Squares, SSE\n",
    "$$ SSE \\equiv \\sum_{i=1}^n (\\hat{y}_i-\\bar{y})^2$$\n",
    "- **Residual** Sum of Squares, SSR\n",
    "$$ SSR \\equiv \\sum_{i=1}^n \\hat{u}_i^2 = \\sum_{i=1}^n (y_i-\\hat{y}_i)^2$$\n",
    "Recall, $SST=SSE+SSR$."
   ]
  }
 ],
 "metadata": {
  "celltoolbar": "Slideshow",
  "kernelspec": {
   "display_name": "Julia 1.0.3",
   "language": "julia",
   "name": "julia-1.0"
  },
  "language_info": {
   "file_extension": ".jl",
   "mimetype": "application/julia",
   "name": "julia",
   "version": "1.0.3"
  }
 },
 "nbformat": 4,
 "nbformat_minor": 1
}
