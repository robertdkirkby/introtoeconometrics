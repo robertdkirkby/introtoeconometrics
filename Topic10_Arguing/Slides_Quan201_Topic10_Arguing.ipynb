{
 "cells": [
  {
   "cell_type": "code",
   "execution_count": 4,
   "metadata": {
    "slideshow": {
     "slide_type": "skip"
    }
   },
   "outputs": [
    {
     "ename": "LoadError",
     "evalue": "syntax: extra token \"IPython\" after end of expression",
     "output_type": "error",
     "traceback": [
      "syntax: extra token \"IPython\" after end of expression",
      ""
     ]
    }
   ],
   "source": [
    "from IPython.display import HTML\n",
    "HTML('''<script>\n",
    "  function code_toggle() {\n",
    "    if (code_shown){\n",
    "      $('div.input').hide('500');\n",
    "      $('#toggleButton').val('Show Code')\n",
    "    } else {\n",
    "      $('div.input').show('500');\n",
    "      $('#toggleButton').val('Hide Code')\n",
    "    }\n",
    "    code_shown = !code_shown\n",
    "  }\n",
    "\n",
    "  $( document ).ready(function(){\n",
    "    code_shown=false;\n",
    "    $('div.input').hide()\n",
    "  });\n",
    "</script>\n",
    "<form action=\"javascript:code_toggle()\"><input type=\"submit\" id=\"toggleButton\" value=\"Show Code\"></form>''')"
   ]
  },
  {
   "cell_type": "code",
   "execution_count": 2,
   "metadata": {
    "scrolled": true,
    "slideshow": {
     "slide_type": "skip"
    }
   },
   "outputs": [
    {
     "ename": "LoadError",
     "evalue": "syntax: extra token \"as\" after end of expression",
     "output_type": "error",
     "traceback": [
      "syntax: extra token \"as\" after end of expression",
      ""
     ]
    }
   ],
   "source": [
    "#%matplotlib inline\n",
    "import matplotlib.pyplot as plt\n",
    "import matplotlib.mlab as mlab\n",
    "import matplotlib.patches as patches\n",
    "#plt.style.reload_library()\n",
    "#plt.style.use(\"ggplot\")\n",
    "from IPython.display import (\n",
    "    display_pretty, display_html, display_jpeg,\n",
    "    display_png, display_json, display_latex, display_svg\n",
    ")\n",
    "#import numpy as np\n",
    "#import pandas as pd\n",
    "#from pandas_datareader import data, wb\n",
    "#from scipy import linalg, optimize\n",
    "#from datetime import datetime, date, timedelta\n",
    "from IPython.display import Audio\n",
    "from IPython.display import YouTubeVideo\n",
    "from IPython.display import HTML\n",
    "from IPython.display import Latex\n",
    "from IPython.display import Image\n",
    "from IPython.display import display\n",
    "from IPython.display import SVG\n",
    "\n"
   ]
  },
  {
   "cell_type": "markdown",
   "metadata": {
    "slideshow": {
     "slide_type": "slide"
    }
   },
   "source": [
    "## <center>QUAN201 - Introduction to Econometrics</center>\n",
    "### <center>Topic 10: Arguing with Data</center>\n",
    "### <center>datetoday</center>"
   ]
  },
  {
   "cell_type": "markdown",
   "metadata": {
    "slideshow": {
     "slide_type": "slide"
    }
   },
   "source": [
    "## Philosophy of Science\n",
    "\n",
    "- Early 20th Century: Karl Popper, paraphrasing \"A Scientific statement is any statement that can be falsified.\"\n",
    "- Later, people figured out this was not the right way to think about it. And so...\n",
    "- Late 20th Century: \"A scientific statement is any statement to which we can assign a probability.\"\n",
    "\n",
    "(Empirical) Science can **never** know for certain that something is true, Scientific knowledge is about there being a high **probability** that something is true."
   ]
  },
  {
   "cell_type": "markdown",
   "metadata": {
    "slideshow": {
     "slide_type": "subslide"
    }
   },
   "source": [
    "## Philosophy of Science\n",
    "\n",
    "Some years ago I had a conversation with a layman about flying saucers. Because I am scientific, I know all about flying saucers! I said, \"I don't think there are flying saucers.\" So my antagonist said, \"Is it impossible that there are flying saucers? Can you prove that it's impossible?\"  \n",
    "\n",
    "\"No,\" I said, \"I can't prove it's impossible. It's just very unlikely.\" At that he said, \"You are very unscientific. If you can't prove it's impossible, then how can you say that it's unlikely?\" But that is the way that is scientific. It is scientific only to say what is more likely and what is less likely, and not to be proving all the time the possible and impossible.\n",
    "\n",
    "To define what I mean, I might have said to him, \"Listen, I mean that from my knowledge of the world that I see around me, I think that it is much more likely that the reports of flying saucers are the results of the known irrational characteristics of terrestrial intelligence than of the unknown rational efforts of extra-terrestrial intelligence.\"\n",
    "\n",
    "-- Richard Feynman"
   ]
  },
  {
   "cell_type": "markdown",
   "metadata": {
    "slideshow": {
     "slide_type": "slide"
    }
   },
   "source": [
    "## Arguing with Data\n",
    "\n",
    "- Publication bias\n",
    "- Discussion style and etiquette\n",
    "- Meta analysis\n",
    "- Economic Theory, why bother?\n"
   ]
  },
  {
   "cell_type": "markdown",
   "metadata": {
    "slideshow": {
     "slide_type": "slide"
    }
   },
   "source": [
    "### Do students learn more with instructors who receive higher evaluations?\n",
    "\n",
    "- Note: we are not asking about the causal relationship between evaluations and learning. \n",
    "\n",
    "- Motivation: we want to know if we can use evaluations to predict who teaches well.\n",
    " - Many universities rely on student evaluations for staffing decisions. Students use them to choose courses."
   ]
  },
  {
   "cell_type": "markdown",
   "metadata": {
    "slideshow": {
     "slide_type": "slide"
    }
   },
   "source": [
    "### Results of a Study (Centra, 1977)\n",
    "\n",
    "- In two courses, students had been randomly assigned to sections.\n",
    "\n",
    "“…the global ratings of teacher effectiveness ….were most highly related to mean exam performance.” \n",
    "\n",
    "<right><img src='Material/Topic10_Fig1.png' width='200' height='120'/></right>\n"
   ]
  },
  {
   "cell_type": "markdown",
   "metadata": {
    "slideshow": {
     "slide_type": "slide"
    }
   },
   "source": [
    "### Figure from a Meta-Analysis:   \n",
    "What is going on here?\n",
    "<right><img src='Material/Topic10_Fig2.png' width='600' height='100'/></right>\n",
    "\n",
    "A **meta-analysis** is a statistical analysis that combines the results of multiple scientific studies."
   ]
  },
  {
   "cell_type": "markdown",
   "metadata": {
    "slideshow": {
     "slide_type": "slide"
    }
   },
   "source": [
    "## Insight #1\n",
    "\n",
    "- Different studies get different results.\n",
    "- Take results from any one single study with a grain of salt.\n",
    "\n"
   ]
  },
  {
   "cell_type": "markdown",
   "metadata": {
    "slideshow": {
     "slide_type": "slide"
    }
   },
   "source": [
    "### Figure from a Meta-Analysis (back again):  \n",
    "- More observations $\\Rightarrow$ smaller effects.\n",
    "\n",
    "- For small samples, many more positive results than negative results.\n",
    "\n",
    "<center><img src='Material/Topic10_Fig3.png' width='600' height='80'/></center>\n",
    "\n",
    "- Both of these are warning signs!"
   ]
  },
  {
   "cell_type": "markdown",
   "metadata": {
    "slideshow": {
     "slide_type": "slide"
    }
   },
   "source": [
    "## Two Quality Criteria for Estimators\n",
    "\n",
    "- **Unbiasedness**: estimator is correct on average.\n",
    "\n",
    "- **Consistency**: estimator is correct as sample size increases to infinity.\n"
   ]
  },
  {
   "cell_type": "markdown",
   "metadata": {
    "slideshow": {
     "slide_type": "slide"
    }
   },
   "source": [
    "### Funnel Plots: A Cautionary Tale of Misinterpretation\n",
    "\n",
    "<center><img src='Material/Topic10_Fig4v2.png' width='600' height='80'/></center>\n",
    "\n",
    "- 'Expect', based on our two quality criteria.\n",
    "- Notice value of x-axis (funnel around true effect, not around zero).\n",
    "#### Cautionary Tale: The above sounds sensible but actually it is only true if you think the experimenter chooses the sample size at random (if they do not think about how big the sample size needs to have enough power that we might get statistically significant results: http://datacolada.org/58 )"
   ]
  },
  {
   "cell_type": "markdown",
   "metadata": {
    "slideshow": {
     "slide_type": "slide"
    }
   },
   "source": [
    "### File drawer effect\n",
    "\n",
    "- File drawer effect: bias introduced into the scientific literature by selective publication. \n",
    "- Some results are more likely to get published than others.\n",
    "\n",
    "- Guess which ones?!"
   ]
  },
  {
   "cell_type": "markdown",
   "metadata": {
    "slideshow": {
     "slide_type": "slide"
    }
   },
   "source": [
    "### Analysis of 221 started experiments\n",
    "\n",
    "<center><img src='Material/Topic10_Fig5.png' width='600' height='80'/></center>\n",
    "- Note: these were in Psychology, not Economics, but same 'file drawer effect' problem."
   ]
  },
  {
   "cell_type": "markdown",
   "metadata": {
    "slideshow": {
     "slide_type": "slide"
    }
   },
   "source": [
    "### The Red M&M\n",
    "\n",
    "- Relationship between jelly beans and acne? No significant result (p>0.05)\n",
    "- Relationship between...\n",
    " - Red jelly beans and acne? Not significant (p>0.05)\n",
    " - Blue jelly beans and acne? Not significant (p>0.05)\n",
    " - Yellow jelly beans and acne? Not significant (p>0.05)\n",
    " - Pink jelly beans and acne? Not significant (p>0.05)\n",
    " - Orange jelly beans and acne? Not significant (p>0.05)\n",
    " - Peach jelly beans and acne? Not significant (p>0.05)  \n",
    "...\n",
    "\n",
    "\n",
    "\n",
    "\n"
   ]
  },
  {
   "cell_type": "markdown",
   "metadata": {
    "slideshow": {
     "slide_type": "slide"
    }
   },
   "source": [
    "### Significant!\n",
    "\n",
    "<center><img src='Material/Topic10_Fig6.png' width='500' height='80'/></center>\n",
    "\n",
    "Source: https://www.xkcd.com/882/"
   ]
  },
  {
   "cell_type": "markdown",
   "metadata": {
    "slideshow": {
     "slide_type": "slide"
    }
   },
   "source": [
    "## Multiple Hypothesis Testing\n",
    "\n",
    "- If you test multiple hypothesis, some of them will be statistically significant *even if there is no true relationship*.\n",
    "\n",
    "- Why? Chance!\n",
    " - Using 95% confidence intervals there is a 5%, or 1-in-20, chance of a Type I Error.\n",
    "\n",
    "- There are statistical ways to adjust your p-values for multiple hypothesis testing."
   ]
  },
  {
   "cell_type": "markdown",
   "metadata": {
    "slideshow": {
     "slide_type": "slide"
    }
   },
   "source": [
    "## So how much can we trust published findings?\n",
    "\n",
    "- Open Science Collaboration tried to replicated 100 articles published in three high-ranking Psychology journals. \n",
    " - They succeeded in 39 cases!\n",
    "\n",
    "[Source: Open Science Collaboration. (2015, Science). Estimating the reproducibility of psychological science.] \n",
    "\n",
    "- Note: Psychology is notorious as the worst performer ---mainly due to low sample sizes--- but the problem is also real in Economics.\n",
    "\n",
    "\n",
    "\n",
    "\n"
   ]
  },
  {
   "cell_type": "markdown",
   "metadata": {
    "slideshow": {
     "slide_type": "slide"
    }
   },
   "source": [
    "## Publication Bias\n",
    "\n",
    "### “Publication bias occurs when the publication of research results *depends not just on the quality* of the research but also on the *hypothesis tested*, and the *significance and direction of effects* detected.”\n",
    "- Source: Dickersin (1990, JAMA). The existence of publication bias and risk factors for its occurrence."
   ]
  },
  {
   "cell_type": "markdown",
   "metadata": {
    "slideshow": {
     "slide_type": "slide"
    }
   },
   "source": [
    "## Reasons to be careful when interpreting the results of one study:\n",
    "\n",
    "- Bad research designs (e.g. omitted variable bias)\n",
    "- Chance\n",
    "- Publication bias"
   ]
  },
  {
   "cell_type": "markdown",
   "metadata": {
    "slideshow": {
     "slide_type": "slide"
    }
   },
   "source": [
    "## Reasons to be careful when interpreting the results of one study (less PC ones):\n",
    "\n",
    "- Author's Incentives: Economists are very good at recognising that everyone else is responding to incentives. Less so at recognising that we do too, including in research.\n",
    "- Most Academic Economists try very hard to avoid being influenced by such things in their Research, but unconciously this will creep in, even if just in terms of what questions we ask."
   ]
  },
  {
   "cell_type": "markdown",
   "metadata": {
    "slideshow": {
     "slide_type": "slide"
    }
   },
   "source": [
    "## Partial Solutions\n",
    "\n",
    "- Preregister experiments\n",
    "- Determine before the experiment how many observations you need (power analysis)\n",
    "- Encourage replications\n",
    "- Conduct meta-analyses\n",
    "\n",
    "(These are focused on fields where experiments are appropriate.)  \n",
    "Related book: https://www.ucpress.edu/book/9780520296954/transparent-and-reproducible-social-science-research"
   ]
  },
  {
   "cell_type": "markdown",
   "metadata": {
    "slideshow": {
     "slide_type": "slide"
    }
   },
   "source": [
    "## Jan's Personal Take\n",
    "\n",
    "- Science has it’s flaws but is still the best game in town when it comes to finding the truth.\n",
    "\n",
    "- There are mechanisms (peer review, meta-analysis, replications) that help us get closer to the truth.\n",
    "\n",
    "- I am usually careful when interpreting the results of a single study.\n",
    "\n",
    "- I am more convinced if a discipline has achieved consensus about a specific result. \n",
    "\n",
    "- For single studies outside my discipline (e.g. that I read about in the news), I am less able to evaluate their quality and probably more sceptical than the average person. "
   ]
  },
  {
   "cell_type": "markdown",
   "metadata": {
    "slideshow": {
     "slide_type": "slide"
    }
   },
   "source": [
    "## Robert's Personal Take\n",
    "\n",
    "- Science has it’s flaws but is still the best game in town when it comes to finding the truth. (Same)\n",
    "\n",
    "- I am usually careful when interpreting the results of a single study. (Same)\n",
    "\n",
    "- I am more convinced if a discipline has achieved consensus about a specific result. (Same. Replication is an important aspect of this.)\n",
    "\n",
    "- I put a large emphasis on how the result was arrived at? (Is it just correlation? Is the sample large?) As a result I am much more sceptical of the use of meta-analysis.\n",
    "\n",
    "- Theory remains important to understand how to interpret the evidence and whether the results of a given study apply to the problem at hand. (If a study finds that deworming works in Kenya, will it work in Bangladesh?)"
   ]
  },
  {
   "cell_type": "markdown",
   "metadata": {
    "slideshow": {
     "slide_type": "slide"
    }
   },
   "source": [
    "## Discussion Style and Etiquette (1/3)\n",
    "\n",
    "1. In economics (and many other sciences), we typically focus on one very narrow question at a time.\n",
    "\n",
    "- For example, we are asking:\n",
    " - What is the relationship between teaching effectiveness and teaching evaluations? \n",
    "\n",
    "- We are not: \n",
    " - Asking if teaching evaluations are related to other aspects of teaching? (e.g. how comfortable students feel)\n",
    " - Saying that teaching evaluations are useless. "
   ]
  },
  {
   "cell_type": "markdown",
   "metadata": {
    "slideshow": {
     "slide_type": "slide"
    }
   },
   "source": [
    "## Discussion Style and Etiquette (2/3)\n",
    "\n",
    "- In disputes, we aim to represent the opposing views as accurately and positively as possible. This is called steel manning.  \n",
    "(Rob: use of models/theory is partly about making sure cannot disagree on the 'views')\n",
    "\n",
    "- We try not to build and attack a straw man – a misrepresentation of someone's position or argument that is easy to defeat."
   ]
  },
  {
   "cell_type": "markdown",
   "metadata": {
    "slideshow": {
     "slide_type": "slide"
    }
   },
   "source": [
    "## Discussion Style and Etiquette (3/3)\n",
    "\n",
    "- We try to stay focused on the discussion at hand and avoid attacks based on irrelevant factors such as, \n",
    " - Persons’ character\n",
    " - Motive\n",
    " - Person’s associated with the argument\n",
    "\n",
    "- Such attacks are called ad hominem (latin for “to the man”). \n",
    "\n",
    "- As a general rule: we try to assume that the person we’re arguing with is intelligent and has good intentions. "
   ]
  },
  {
   "cell_type": "markdown",
   "metadata": {
    "slideshow": {
     "slide_type": "slide"
    }
   },
   "source": [
    "## Final thoughts (1/2)\n",
    "\n",
    "- Discussing emotional topics can be difficult. When doing this, I try to be humble and calm.\n",
    "\n",
    "- It is not a sign of defeat to change my mind. \n",
    " - \"When the facts change, I change my mind. What do you do?\" (Keynes did not say this, but it is often attributed to him.)"
   ]
  },
  {
   "cell_type": "markdown",
   "metadata": {
    "slideshow": {
     "slide_type": "slide"
    }
   },
   "source": [
    "## Final Thoughts (2/2)\n",
    "\n",
    "- Sometimes both points might be true at the same time or in different situations.\n",
    " - Example: minimum wage may not affect employment in some situations but reduce employment in others.\n",
    "\n",
    "- I hold many beliefs. \n",
    "- I have changed beliefs on some positions.\n",
    "- Often smart people hold opposing belief. \n",
    "- I am most likely wrong about some of my beliefs! "
   ]
  },
  {
   "cell_type": "markdown",
   "metadata": {
    "slideshow": {
     "slide_type": "slide"
    }
   },
   "source": [
    "## Review/Other"
   ]
  }
 ],
 "metadata": {
  "celltoolbar": "Slideshow",
  "kernelspec": {
   "display_name": "Julia 1.0.3",
   "language": "julia",
   "name": "julia-1.0"
  },
  "language_info": {
   "file_extension": ".jl",
   "mimetype": "application/julia",
   "name": "julia",
   "version": "1.0.3"
  }
 },
 "nbformat": 4,
 "nbformat_minor": 1
}
