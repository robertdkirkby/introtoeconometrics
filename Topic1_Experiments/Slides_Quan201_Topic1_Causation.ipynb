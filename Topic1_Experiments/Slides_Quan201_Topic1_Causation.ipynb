{
 "cells": [
  {
   "cell_type": "code",
   "execution_count": 1,
   "metadata": {
    "slideshow": {
     "slide_type": "skip"
    }
   },
   "outputs": [
    {
     "ename": "LoadError",
     "evalue": "syntax: extra token \"IPython\" after end of expression",
     "output_type": "error",
     "traceback": [
      "syntax: extra token \"IPython\" after end of expression",
      ""
     ]
    }
   ],
   "source": [
    "from IPython.display import HTML\n",
    "HTML('''<script>\n",
    "  function code_toggle() {\n",
    "    if (code_shown){\n",
    "      $('div.input').hide('500');\n",
    "      $('#toggleButton').val('Show Code')\n",
    "    } else {\n",
    "      $('div.input').show('500');\n",
    "      $('#toggleButton').val('Hide Code')\n",
    "    }\n",
    "    code_shown = !code_shown\n",
    "  }\n",
    "\n",
    "  $( document ).ready(function(){\n",
    "    code_shown=false;\n",
    "    $('div.input').hide()\n",
    "  });\n",
    "</script>\n",
    "<form action=\"javascript:code_toggle()\"><input type=\"submit\" id=\"toggleButton\" value=\"Show Code\"></form>''')"
   ]
  },
  {
   "cell_type": "code",
   "execution_count": 6,
   "metadata": {
    "scrolled": true,
    "slideshow": {
     "slide_type": "skip"
    }
   },
   "outputs": [
    {
     "ename": "LoadError",
     "evalue": "syntax: extra token \"as\" after end of expression",
     "output_type": "error",
     "traceback": [
      "syntax: extra token \"as\" after end of expression",
      ""
     ]
    }
   ],
   "source": [
    "#%matplotlib inline\n",
    "import matplotlib.pyplot as plt\n",
    "import matplotlib.mlab as mlab\n",
    "import matplotlib.patches as patches\n",
    "#plt.style.reload_library()\n",
    "#plt.style.use(\"ggplot\")\n",
    "from IPython.display import (\n",
    "    display_pretty, display_html, display_jpeg,\n",
    "    display_png, display_json, display_latex, display_svg\n",
    ")\n",
    "#import numpy as np\n",
    "#import pandas as pd\n",
    "#from pandas_datareader import data, wb\n",
    "#from scipy import linalg, optimize\n",
    "#from datetime import datetime, date, timedelta\n",
    "from IPython.display import Audio\n",
    "from IPython.display import YouTubeVideo\n",
    "from IPython.display import HTML\n",
    "from IPython.display import Latex\n",
    "from IPython.display import Image\n",
    "from IPython.display import display\n",
    "from IPython.display import SVG\n",
    "\n",
    "import Dates\n"
   ]
  },
  {
   "cell_type": "markdown",
   "metadata": {
    "slideshow": {
     "slide_type": "slide"
    }
   },
   "source": [
    "### <center>QUAN201 - Introduction to Econometrics</center>\n",
    "#### <center>Topic 1: Causation and Experiments</center>\n",
    "#### <center>2020</center>"
   ]
  },
  {
   "cell_type": "markdown",
   "metadata": {
    "slideshow": {
     "slide_type": "slide"
    }
   },
   "source": [
    "### Intro: What is econometrics?\n",
    "### Causation?\n",
    "### Differences in Means\n",
    "### Randomized Experiments\n",
    "\n",
    "\n",
    "Reference: Angrist and Pischke, Chapter 1."
   ]
  },
  {
   "cell_type": "markdown",
   "metadata": {
    "slideshow": {
     "slide_type": "slide"
    }
   },
   "source": [
    "### What is econometrics?\n",
    "\n",
    "- Econometrics is a set of statistical tools that allow us to learn about the world using data.\n",
    "\n",
    "- Difference from most Statistics and Machine Learning? \n",
    "\n",
    "- Economists/Econometricians put much greater emphasis on *causation*."
   ]
  },
  {
   "cell_type": "markdown",
   "metadata": {
    "slideshow": {
     "slide_type": "slide"
    }
   },
   "source": [
    "### The relationship between X and Y\n",
    "\n",
    "- We usually want to know how one particular factor (X) influences one particular outcome (Y).   \n",
    "\n",
    "- What is the __causal__ relationship between X and Y? For example, we could ask about the causal relationship between:\n",
    "  - Health insurance and health?\n",
    "  - Education and wages?\n",
    "  - Class size and student test scores?\n",
    "  - Unemployment rate and crime?"
   ]
  },
  {
   "cell_type": "markdown",
   "metadata": {
    "slideshow": {
     "slide_type": "slide"
    }
   },
   "source": [
    "### Economics: Stories and Patterns.\n",
    "\n",
    "- Theories are the stories. Data are the patterns.  \n",
    "\n",
    "- We want to understand which of our stories about how the world works fit the patterns we see in the world.\n",
    "\n",
    "- We also use the data to measure the size/importance of different effects/theories."
   ]
  },
  {
   "cell_type": "markdown",
   "metadata": {
    "slideshow": {
     "slide_type": "slide"
    }
   },
   "source": [
    "### What is the causal effect of health insurance on health?\n",
    "\n",
    "Outcome (Y):  Answer to question: Would you say your health in general is excellent (5), very good (4), good (3), fair (2), poor (1). \n",
    "\n",
    "Treatment (X): having health insurance.\n",
    "\n",
    "Treatment group: people with insurance.\n",
    "\n",
    "Comparison or control group: people without insurance."
   ]
  },
  {
   "cell_type": "markdown",
   "metadata": {
    "slideshow": {
     "slide_type": "slide"
    }
   },
   "source": [
    "### What is the causal effect of health insurance (X) on health (Y)? \n",
    "<center><img src='Material/Topic1_Fig1.png' width='600' height='80'/></center>\n",
    "\n",
    "- People with health insurance (Some HI) are more healthy than people without insurance (No HI). \n",
    "- Does this mean having health insurance causes better health?"
   ]
  },
  {
   "cell_type": "markdown",
   "metadata": {
    "slideshow": {
     "slide_type": "slide"
    }
   },
   "source": [
    "### *ceteris paribus*: other things equal\n",
    "\n",
    "- To be able to infer causality, the ceteris paribus condition needs to hold. Ceteris paribus is latin for other things equal.\n",
    "\n",
    "- Video:\n",
    "[mru.org/courses/mastering-econometrics/ceteris-paribus](https://www.mruniversity.com/courses/mastering-econometrics/ceteris-paribus)\n",
    "\n"
   ]
  },
  {
   "cell_type": "markdown",
   "metadata": {
    "slideshow": {
     "slide_type": "slide"
    }
   },
   "source": [
    "### Are other things equal?\n",
    "\n",
    "<center><img src='Material/Topic1_Fig2.png' width='400' height='80'/></center>\n",
    "\n",
    "### No! \n",
    "#### Insured people are older, more educated, etc.\n",
    "\n",
    "We don’t know if (and to what extent) the difference in health is driven by health insurance or other factors?"
   ]
  },
  {
   "cell_type": "markdown",
   "metadata": {
    "slideshow": {
     "slide_type": "slide"
    }
   },
   "source": [
    "## Causal effect\n",
    "\n",
    "Causal effect for a specific individual: Health with insurance – health without insurance\n",
    "\n",
    "$$Y_{1i} - Y_{0i}$$\n",
    "\n",
    "1 or 0 indicate treatment:\n",
    "- 1 = with health insurance \n",
    "- 0 = without health insurance\n",
    "\n",
    "*i* states that it is a specific individual:\n",
    "- $Y_{1,Khuzdar}-Y_{0,Khuzdar}$\n",
    "- $Y_{1,Maria}-Y_{0,Maria}$"
   ]
  },
  {
   "cell_type": "markdown",
   "metadata": {
    "slideshow": {
     "slide_type": "slide"
    }
   },
   "source": [
    "## Difficulty\n",
    "\n",
    "Causal effect for a specific individual: Health with insurance – health without insurance\n",
    "\n",
    "$$Y_{1,Maria}-Y_{0,Maria}$$\n",
    "\n",
    "### We only see one of these two!"
   ]
  },
  {
   "attachments": {},
   "cell_type": "markdown",
   "metadata": {
    "slideshow": {
     "slide_type": "slide"
    }
   },
   "source": [
    "### People either have insurance or they don’t. We only observe one potential outcome.\n",
    "\n",
    "<center><img src='Material/Topic1_Fig3.png' width='600' height='80'/></center>\n",
    "\n",
    "What is the causal effect of health insurance for Khuzdar and Maria?\n",
    "\n",
    "What is the difference between actual health between Khuzdar and Maria?\n",
    "\n",
    "$$Y_{Khuzdar} - Y_{Maria}=-1$$"
   ]
  },
  {
   "attachments": {},
   "cell_type": "markdown",
   "metadata": {
    "slideshow": {
     "slide_type": "slide"
    }
   },
   "source": [
    "### What is driving the actual differences in health?\n",
    "\n",
    "Difference because of the treatment and difference because of other factors.\n",
    "\n",
    "<center><img src='Material/Topic1_Fig4.png' width='600' height='80'/></center>\n",
    "\n",
    "$$\n",
    "\\begin{align}\n",
    "Y_{Khuzdar}-Y_{Maria} &= Y_{Khuzdar,1}-Y_{Maria,0} \\\\\n",
    "   &= \\underbrace{Y_{Khuzdar,1}-Y_{Khuzdar,0}}+\\underbrace{Y_{Khuzdar,0}-Y_{Maria,0}} \\\\\n",
    "   &\\quad \\text{Treatment Effect} \\quad + \\quad \\text{Selection Bias}\n",
    "\\end{align}\n",
    "$$\n"
   ]
  },
  {
   "cell_type": "markdown",
   "metadata": {
    "slideshow": {
     "slide_type": "slide"
    }
   },
   "source": [
    "$$ \\begin{align} \\text{Difference in Group Means }&=\\text{ Average Y of Treated }-\\text{ Average Y of Control} \\\\\n",
    "                          &= Avg_n[Y_i | D_i=1] - Avg_n[Y_i | D_i=0] \\\\\n",
    "                          &= Avg_n[Y_{1,i} | D_i=1] - Avg_n[Y_{0,i} | D_i=0] \\\\\n",
    "                          &= (Avg_n[Y_{0,i} | D_i=1] + \\kappa) - Avg_n[Y_{0,i} | D_i=0] \\\\\n",
    "                          &= \\kappa + (Avg_n[Y_{0,i} | D_i=1] - Avg_n[Y_{0,i} | D_i=0]) \\\\\n",
    "                          &= \\text{(Average) Causal Effect} + \\text{Selection Bias}\n",
    "                          \\end{align}$$\n",
    "\n",
    "This is just the same as we said earlier, but with equations. And averages!\n",
    "\n",
    "1st-to-2nd line: Definitions. <br>\n",
    "2nd-to-3rd line: Follows from treatment/control. <br>\n",
    "3rd-to-4th line: Constant effects assumption: $Y_{1,i}=Y_{0,i}+\\kappa$. <br>\n",
    "4th-to-5th line: Just changes grouping of terms. <br>\n",
    "5th-to-6th line: Definitions.\n",
    "\n",
    "$$ D_i = \\left\\{ \\begin{align} & 1 \\text{ if } i \\text{ is insured} \\\\ & 0 \\text{ otherwise} \\end{align} \\right. $$\n",
    "\n"
   ]
  },
  {
   "cell_type": "markdown",
   "metadata": {
    "slideshow": {
     "slide_type": "slide"
    }
   },
   "source": [
    "\n",
    "\n",
    "## Difference in Group Means \n",
    "## = Average Y of Treated - Average Y of Control\n",
    "## = Average Causal Effect + Selection Bias\n",
    "\n",
    "Sometimes useful to think of selection bias as different composition of the groups (e.g., one group is older, the other group younger; a failure of *ceteris paribus*).\n",
    "                          "
   ]
  },
  {
   "cell_type": "markdown",
   "metadata": {
    "slideshow": {
     "slide_type": "slide"
    }
   },
   "source": [
    "### Making sense of mean differences\n",
    "\n",
    "<center><img src='Material/Topic1_Fig5.png' width='600' height='80'/></center>\n",
    "\n",
    "What is the likely sign of the selection bias? \n",
    "- If people with insurance are *healthier* in the absence of insurance = **positive selection**. \n",
    "- If people with insurance are *unhealthier* in the absence of insurance = **negative selection**. \n",
    "\n",
    "0.31 = Average causal effect + positive number\n",
    "\n",
    "Average causal effect = 0.31 – positive number\n",
    "\n",
    "We expect the average causal effect of health insurance to be smaller than 0.31. <br>\n",
    "0.31 is an **upper bound** on the effect of health insurance on health."
   ]
  },
  {
   "cell_type": "markdown",
   "metadata": {
    "slideshow": {
     "slide_type": "slide"
    }
   },
   "source": [
    "## Summary so Far.\n",
    "- We are interested in *causal* effects.\n",
    "- Difference in Group Means = Average Causal Effect + Selection Bias\n",
    "- These Group Means can still tell us about upper (or lower) bounds on the size of the causal effect (if we know direction of selection bias)."
   ]
  },
  {
   "cell_type": "markdown",
   "metadata": {
    "slideshow": {
     "slide_type": "slide"
    }
   },
   "source": [
    "### (made up) mean differences\n",
    "- People who wear a tie earn on average 20% more. Should you wear a tie to work?\n",
    "\n",
    "- People who are in a hospital have a 200% greater likelihood of dying in the next year. \n",
    "\n",
    "- Children who have books at home are 10% more likely to go to university."
   ]
  },
  {
   "cell_type": "markdown",
   "metadata": {
    "slideshow": {
     "slide_type": "slide"
    }
   },
   "source": [
    "### Education and Income\n",
    "\n",
    "<center><img src='Material/Topic1_Fig6.png' width='600' height='80'/></center>\n",
    "[Source](https://www.educationcounts.govt.nz/indicators/main/education-and-learning-outcomes/1919)\n",
    "\n",
    "### What is the causal effect of education on earnings?"
   ]
  },
  {
   "cell_type": "markdown",
   "metadata": {
    "slideshow": {
     "slide_type": "slide"
    }
   },
   "source": [
    "### Gender Wage Gap\n",
    "- Gender wage gap = difference between male and female median wages, divided by male median wage.\n",
    "<center><img src='Material/Topic1_Fig7.png' width='600' height='80'/></center>\n",
    "Source: OECD, 2013.\n",
    "\n",
    "Is this an **upper bound** or **lower bound** on gender discrimination in wages?"
   ]
  },
  {
   "cell_type": "markdown",
   "metadata": {
    "slideshow": {
     "slide_type": "slide"
    }
   },
   "source": [
    "## Making sense of mean differences\n",
    "- The likely direction of selection bias allows us to say if mean differences are an upper or lower bound of the average causal effect.\n",
    "  - Positive selection = mean differences are an upper bound \n",
    "  - Negative selection = mean differences are a lower bound\n",
    "\n",
    "- However, in many cases the direction of the selection bias is not clear.\n",
    "\n",
    "- We are also interested in the size of the effect."
   ]
  },
  {
   "cell_type": "markdown",
   "metadata": {
    "slideshow": {
     "slide_type": "slide"
    }
   },
   "source": [
    "## Important statistical concepts: Population and Sample\n",
    "\n",
    "- A **population** is a complete set of items that is the subject of a statistical analysis. \n",
    "  - Example: New Zealand citizens.\n",
    "- A **sample** is a subset of items drawn from the population. \n",
    "  - Example: random sample of New Zealand citizens\n",
    "\n",
    "In econometrics, we typically want to learn about the population by looking at a sample. "
   ]
  },
  {
   "cell_type": "markdown",
   "metadata": {
    "slideshow": {
     "slide_type": "slide"
    }
   },
   "source": [
    "## Population and Sample\n",
    "<center><img src='Material/Topic1_Fig8.png' width='600' height='80'/></center>\n",
    "\n",
    "- In econometrics we typically prefer to have a random sample of the population, because random samples are plausibly similar to the population."
   ]
  },
  {
   "cell_type": "markdown",
   "metadata": {
    "slideshow": {
     "slide_type": "slide"
    }
   },
   "source": [
    "## Expected Value\n",
    "\n",
    "The *expected value of* $Y$, denoted $E[Y]$, is the population average of the variable $Y$.\n",
    "\n",
    "<right><img src='Material/Topic1_Fig9.png' width='120' height='160'/></right>\n",
    "\n",
    "Example:\n",
    "  If $Y$ is the age of New Zealand citizens, then $E[Y]$ is the average age of New Zealand citizens."
   ]
  },
  {
   "cell_type": "markdown",
   "metadata": {
    "slideshow": {
     "slide_type": "slide"
    }
   },
   "source": [
    "## Conditional expectation\n",
    "\n",
    "The *conditionally expected value of* $Y$ *given* $x$ *occurred*, denoted $E[Y|X=x]$, is the population average of the variable $Y$ after conditioning on $x$ occurring.\n",
    "\n",
    "<right><img src='Material/Topic1_Fig9.png' width='120' height='160'/></right>\n",
    "\n",
    "Example:\n",
    "  If $Y$ is the age of New Zealand citizens, and $X$ is cities in New Zealand, and $x$ is Wellington, then $E[Y|X=x]$ is the average age of New Zealand citizens living in Wellington."
   ]
  },
  {
   "cell_type": "markdown",
   "metadata": {
    "slideshow": {
     "slide_type": "slide"
    }
   },
   "source": [
    "If $Y$ is generated by a random process, such as rolling a dice... ($Y$ is the number rolled)\n",
    "\n",
    "The **Expected Value**, $E[Y]$, is the average value of infinitely many rolls.\n",
    "\n",
    "If $X$ is family members and $x$ is *mother*, then the **Conditional Expectation**, $E[Y|X=x]$ is the average value of infinitely many rolls by mother."
   ]
  },
  {
   "cell_type": "markdown",
   "metadata": {
    "slideshow": {
     "slide_type": "slide"
    }
   },
   "source": [
    "### Question for the class:\n",
    "\n",
    "What can we say about the age difference between students who are **randomly** chosen to sit in the front or back in a lecture hall?\n",
    "\n",
    "Compared to students sitting in the back, students sitting in the front… <br>\n",
    "A) are on average younger <br>\n",
    "B) are on average the same age <br>\n",
    "C) have the same expected age <br>\n",
    "D) it is not possible to tell"
   ]
  },
  {
   "cell_type": "markdown",
   "metadata": {
    "slideshow": {
     "slide_type": "slide"
    }
   },
   "source": [
    "## Randomized experiments\n",
    "\n",
    "- Randomized experiments are considered the gold standard in econometrics. \n",
    "- Evidence from experiments is considered the most credible method for establishing causation. \n",
    "\n",
    "The Reason:\n",
    "- Random assignment offers a way to eliminate selection bias and to make ceteris paribus comparisons. \n",
    "\n",
    "Intuition: If a treatment is randomly assigned, treatment and control group are comparable so that we can attribute the difference in outcome to the causal effect of the treatment."
   ]
  },
  {
   "cell_type": "markdown",
   "metadata": {
    "slideshow": {
     "slide_type": "slide"
    }
   },
   "source": [
    "## Random assignment eliminates selection bias\n",
    "\n",
    "$D$ is treatment status ($D = 1$ if insurance, $D = 0$ if no insurance).\n",
    "\n",
    "If D is randomly assigned, treatment and control group will be in expectations equally healthy *in absence of insurance*. <br>\n",
    "Formally: $E[Y_0 | D=1] = E[Y_0|D=0]$\n",
    "\n",
    "The difference between treatment and control group can in expectations therefore be attributed to the average causal effect (ACE) of the treatment. <br>\n",
    "Formally, with randomization: $E[Y_1 | D=1] - E[Y_0|D=0]$ = *Average Causal Effect*\n",
    "\n",
    "(Reminder: *Selection Bias* = $E[Y_0 | D=1] - E[Y_0|D=0]$. So equals zero.) <br>\n",
    "(Notice: *Expectations*, so this is about the population, not the sample.)\n"
   ]
  },
  {
   "cell_type": "markdown",
   "metadata": {
    "slideshow": {
     "slide_type": "slide"
    }
   },
   "source": [
    "## Law of Large Numbers\n",
    "\n",
    "The Law of Large Numbers (LLN) states that as the sample gets larger, the sample average becomes closer to the expected value.\n",
    "\n",
    "<center><img src='Material/Topic1_Fig10.png' width='600' height='80'/></center>\n",
    "\n",
    "$Avg_n[Y] \\to E[Y]$ as $n$ goes to infinity."
   ]
  },
  {
   "cell_type": "markdown",
   "metadata": {
    "slideshow": {
     "slide_type": "slide"
    }
   },
   "source": [
    "### Random assignment eliminates selection bias\n",
    "\n",
    "- This is in expectation. In any sample treatment and control group might differ **by chance**.\n",
    "\n",
    "- However, due to the LLN the difference in health in the absence of health insurance will be small if the sample is large.\n",
    "\n",
    "- If the sample is large, the mean difference in outcomes between the treatment and control group give us a good **estimate** of the average causal effect of the treatment. "
   ]
  },
  {
   "cell_type": "markdown",
   "metadata": {
    "slideshow": {
     "slide_type": "slide"
    }
   },
   "source": [
    "## The Oregon health experiment\n",
    "\n",
    "- Elegible people could register on a waiting list for health insurance. \n",
    "- Out of those on the waiting list, 29,835 were randomly chosen and given the opportunity to apply for free health insurance.   \n",
    "- About 30% of the lottery winners (those given the opportunity) actually applied and met the criteria to receive free health insurance. \n",
    "\n",
    "Treatment group = lottery winners <br>\n",
    "Control group = lottery loosers <br>\n",
    "Outcomes: Various health measures. "
   ]
  },
  {
   "cell_type": "markdown",
   "metadata": {
    "slideshow": {
     "slide_type": "slide"
    }
   },
   "source": [
    "### Checking for balance\n",
    "\n",
    "<center><img src='Material/Topic1_Fig11.png' width='600' height='80'/></center>\n",
    "Source: [Taubman et al. 2014](https://dx.doi.org/10.1126%2Fscience.1246183)\n",
    "\n",
    "As we would expect under random assignment: there are only very small differences between treatment and control group."
   ]
  },
  {
   "cell_type": "markdown",
   "metadata": {
    "slideshow": {
     "slide_type": "slide"
    }
   },
   "source": [
    "## Question for Class\n",
    "\n",
    "If we can check for balance. Why do we need randomization? Why not just explictly allocat people so that our treatment and control groups are balanced?"
   ]
  },
  {
   "cell_type": "markdown",
   "metadata": {
    "slideshow": {
     "slide_type": "slide"
    }
   },
   "source": [
    "### Results\n",
    "\n",
    "<center><img src='Material/Topic1_Fig12.png' width='400' height='80'/></center>\n",
    "[Source](https://doi.org/10.1093/qje/qjs020)"
   ]
  },
  {
   "cell_type": "markdown",
   "metadata": {
    "slideshow": {
     "slide_type": "slide"
    }
   },
   "source": [
    "## Results from Oregon Health Program\n",
    "\n",
    "- Access to health insurance \n",
    "  - has a small positive effect on self-reported health and mental health.\n",
    "  - has a positive effect on financial situation.\n",
    "  - has no significant effect on physical health.\n",
    "  - increased emergency-department visits.\n",
    "  \n",
    "(Background knowledge: In USA, the government does not provide free medical treatment, but does provide free emergency-medical treatment. Hence the 'emergency department'.) <br>\n",
    "(Background info: Oregon gave the free coverage to everyone after a few years, the random lottery was because they could only afford to roll it out gradually due to the cost.)"
   ]
  },
  {
   "cell_type": "markdown",
   "metadata": {
    "slideshow": {
     "slide_type": "slide"
    }
   },
   "source": [
    "### Question for class (only loosely related)\n",
    "\n",
    "Interpreting results is not always easy:\n",
    "\n",
    "In Microeconomics, when talking about Insurance we often talk about *imperfect information* and how this leads to *adverse selection* and *moral hazard*.\n",
    "\n",
    "What might *adverse selection* imply for these results and their interpretation?\n",
    "    \n",
    "What might *moral hazard* imply for these results and their interpretation?"
   ]
  },
  {
   "cell_type": "markdown",
   "metadata": {
    "slideshow": {
     "slide_type": "slide"
    }
   },
   "source": [
    "## Racial discrimination in the labor market\n",
    "\n",
    "- Black Americans earn less than White Americans in the US.\n",
    "\n",
    "- Suggests racial discrimination. But can we be certain?\n",
    "\n",
    "- Black Americans may differ from White Americans on average in ways that affect earnings, so simply looking at wage differences is not enough as evidence for discrimination.\n",
    "  - Is the wage difference likely an upper or lower bound?\n",
    "\n",
    "- Can we do an experiment by randomly assigning race?"
   ]
  },
  {
   "cell_type": "markdown",
   "metadata": {
    "slideshow": {
     "slide_type": "slide"
    }
   },
   "source": [
    "[Bertrand and Mullainathan (2004)](https://www.aeaweb.org/articles?id=10.1257/0002828042002561) sent out fake CVs in response to newspaper ads which were otherwise identical but some had Black sounding names (e.g., Jamal) and others White sounding names (e.g., Greg).\n",
    "\n",
    "They sent out 4,870 CVs (50% black names)\n",
    "\n",
    "Results: \n",
    "\n",
    "<center><img src='Material/Topic1_Fig13.png' width='400' height='80'/></center>\n",
    "\n",
    "Having a black name on a CV causes a lower response rate."
   ]
  },
  {
   "cell_type": "markdown",
   "metadata": {
    "slideshow": {
     "slide_type": "slide"
    }
   },
   "source": [
    "### Racial discrimination in the labor market\n",
    "\n",
    "- Does this translate into differences in actual job offers?\n",
    "\n",
    "- Is this evidence of **taste based discrimination** (i.e., a dislike of black people)? \n",
    "\n",
    "- Or is this evidence of **statistical discrimination** (i.e., maybe employers believe - rightly or wrongly - that applicants with black sounding names are less productive.\n"
   ]
  },
  {
   "cell_type": "markdown",
   "metadata": {
    "slideshow": {
     "slide_type": "slide"
    }
   },
   "source": [
    "### Replication Study (1/3)\n",
    "\n",
    "A more recent paper could not replicate the effect. \n",
    "\n",
    "They found almost identical call-back rates for CVs with black and white names."
   ]
  },
  {
   "cell_type": "markdown",
   "metadata": {
    "slideshow": {
     "slide_type": "slide"
    }
   },
   "source": [
    "### Replication Study (2/3)\n",
    "\n",
    "One key difference between the original and replication study was the names chosen.\n",
    "\n",
    "<center><img src='Material/Topic1_Fig14.png' width='600' height='80'/></center>\n",
    "\n",
    "[A discussion on this topic](http://datacolada.org/51)\n"
   ]
  },
  {
   "cell_type": "markdown",
   "metadata": {
    "slideshow": {
     "slide_type": "slide"
    }
   },
   "source": [
    "### Replication Study (3/3)\n",
    "The results in the original paper might have been driven by bias against low socio-economic status names.\n",
    "\n",
    "However, it could also be driven by other factors (e.g. different study period)."
   ]
  },
  {
   "cell_type": "markdown",
   "metadata": {
    "slideshow": {
     "slide_type": "slide"
    }
   },
   "source": [
    "## Limitations of Experiments\n",
    "\n",
    "Gold-standard, but not a Silver bullet.\n",
    "\n",
    "- Randomized experiments are the most credible evidence of causation. \n",
    "- However, they also have limitations (many of which apply to other methods as well):\n",
    "  - The *long-term effects* might be different.\n",
    "  - *External Validity*: It is not clear if results tell us something about other settings. (e.g., Do results of an experiment in Kenya tell us anything about Uganda?, about India?, about Germany?) \n",
    "  - People might have behaved differently because they knew that they were part of an experiment (*experimental effects / Hawthorne effect*).\n",
    "  - The effect might be different if it is implemented at a large scale (*general equilibrium effects*). E.g., maybe job-training helps you get a job because you are now more trained than everyone else. If we give everyone job-training then no-one is 'more trained' than the others, so effect is much smaller. \n",
    "\n",
    "More prosaically, random experiments are often expensive. The 2019 Nobel Memorial Prize in Economic Sciences went to Banerjee & Duflo. You can read about their work with 'Randomly Controlled Trials' (field-experiments) in their book [Poor Economics - A Radical Rethinking of the Way to Fight Global Poverty](https://economics.mit.edu/faculty/eduflo/pooreconomics)."
   ]
  },
  {
   "cell_type": "markdown",
   "metadata": {
    "slideshow": {
     "slide_type": "slide"
    }
   },
   "source": [
    "## Review/Other"
   ]
  }
 ],
 "metadata": {
  "celltoolbar": "Slideshow",
  "kernelspec": {
   "display_name": "Julia 1.0.3",
   "language": "julia",
   "name": "julia-1.0"
  },
  "language_info": {
   "file_extension": ".jl",
   "mimetype": "application/julia",
   "name": "julia",
   "version": "1.0.3"
  }
 },
 "nbformat": 4,
 "nbformat_minor": 1
}
