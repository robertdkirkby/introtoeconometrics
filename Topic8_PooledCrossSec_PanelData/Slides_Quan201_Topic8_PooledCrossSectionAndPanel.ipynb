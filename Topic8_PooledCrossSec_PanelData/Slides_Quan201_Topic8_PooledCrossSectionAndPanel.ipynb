{
 "cells": [
  {
   "cell_type": "code",
   "execution_count": 1,
   "metadata": {
    "slideshow": {
     "slide_type": "skip"
    }
   },
   "outputs": [
    {
     "ename": "LoadError",
     "evalue": "syntax: extra token \"IPython\" after end of expression",
     "output_type": "error",
     "traceback": [
      "syntax: extra token \"IPython\" after end of expression",
      ""
     ]
    }
   ],
   "source": [
    "from IPython.display import HTML\n",
    "HTML('''<script>\n",
    "  function code_toggle() {\n",
    "    if (code_shown){\n",
    "      $('div.input').hide('500');\n",
    "      $('#toggleButton').val('Show Code')\n",
    "    } else {\n",
    "      $('div.input').show('500');\n",
    "      $('#toggleButton').val('Hide Code')\n",
    "    }\n",
    "    code_shown = !code_shown\n",
    "  }\n",
    "\n",
    "  $( document ).ready(function(){\n",
    "    code_shown=false;\n",
    "    $('div.input').hide()\n",
    "  });\n",
    "</script>\n",
    "<form action=\"javascript:code_toggle()\"><input type=\"submit\" id=\"toggleButton\" value=\"Show Code\"></form>''')"
   ]
  },
  {
   "cell_type": "code",
   "execution_count": 6,
   "metadata": {
    "scrolled": true,
    "slideshow": {
     "slide_type": "skip"
    }
   },
   "outputs": [
    {
     "ename": "LoadError",
     "evalue": "syntax: extra token \"as\" after end of expression",
     "output_type": "error",
     "traceback": [
      "syntax: extra token \"as\" after end of expression",
      ""
     ]
    }
   ],
   "source": [
    "#%matplotlib inline\n",
    "import matplotlib.pyplot as plt\n",
    "import matplotlib.mlab as mlab\n",
    "import matplotlib.patches as patches\n",
    "#plt.style.reload_library()\n",
    "#plt.style.use(\"ggplot\")\n",
    "from IPython.display import (\n",
    "    display_pretty, display_html, display_jpeg,\n",
    "    display_png, display_json, display_latex, display_svg\n",
    ")\n",
    "#import numpy as np\n",
    "#import pandas as pd\n",
    "#from pandas_datareader import data, wb\n",
    "#from scipy import linalg, optimize\n",
    "#from datetime import datetime, date, timedelta\n",
    "from IPython.display import Audio\n",
    "from IPython.display import YouTubeVideo\n",
    "from IPython.display import HTML\n",
    "from IPython.display import Latex\n",
    "from IPython.display import Image\n",
    "from IPython.display import display\n",
    "from IPython.display import SVG\n",
    "\n",
    "import Dates\n"
   ]
  },
  {
   "cell_type": "markdown",
   "metadata": {
    "slideshow": {
     "slide_type": "slide"
    }
   },
   "source": [
    "## <center>QUAN201 - Introduction to Econometrics</center>\n",
    "### <center>Topic 8: Pooled, Cross Section and Panel Data</center>"
   ]
  },
  {
   "cell_type": "markdown",
   "metadata": {
    "slideshow": {
     "slide_type": "slide"
    }
   },
   "source": [
    "## Pooled, Cross Section and Panel Data\n",
    "- Types of Data\n",
    "- Pooled OLS\n",
    "- Difference-in-Difference Estimator\n",
    "- First-Difference Estimator\n",
    "\n",
    "Reference: Wooldridge, Chapter 1 and 13"
   ]
  },
  {
   "cell_type": "markdown",
   "metadata": {
    "slideshow": {
     "slide_type": "slide"
    }
   },
   "source": [
    "## Types of Data\n",
    "- Cross Section \n",
    " - Many observations (individuals/households/firms etc.)\n",
    " - Observed at one point in time.\n",
    "- Repeated Cross Section\n",
    " - Many cross sectional datasets.\n",
    " - Observed at different points in time (not the same observations).\n",
    " - *Pooled Cross Section*: pool these repeated cross sections together and treat as one big cross section.\n",
    "- Time Series (small n, large t)\n",
    " - Few observation.\n",
    " - Observed frequently.\n",
    "- Panel Data (large n, small t) \n",
    " - Many observations.\n",
    " - Observed at few points in time."
   ]
  },
  {
   "cell_type": "markdown",
   "metadata": {
    "slideshow": {
     "slide_type": "slide"
    }
   },
   "source": [
    "### Cross Section\n",
    "\n",
    "- Everything we have seen so far is about cross-section.\n",
    "- Lots of observations (large n)\n",
    "- Observations (indexed by i) were assumed to be *i.i.d*: *independent and identically distributed*\n",
    "\n",
    "### Repeated Cross Section\n",
    "\n",
    "- Multiple cross-sections.\n",
    "- Loosely: observe groups of individuals at different time periods, but not the same individuals each time.\n",
    "- (Still have the *i.i.d* assumption)\n",
    "- We cannot follow an individual over time (cannot follow an individual from one cross section to another).\n",
    "- But we can, e.g., look at how averages change over time."
   ]
  },
  {
   "cell_type": "markdown",
   "metadata": {
    "slideshow": {
     "slide_type": "slide"
    }
   },
   "source": [
    "### Time Series\n",
    "\n",
    "- Example: GDP observed every year.\n",
    "- Small n (just one in above example), lots of time periods (indexed by t, large T).\n",
    "- We expect GDP this year to be related to GDP last year.\n",
    "- So we do not assume *i.i.d*.\n",
    "- We might want to estimate things like: $y_t=\\beta_0 + \\beta_1 y_{t-1} + u$\n",
    "- You can do this, but need to learn some new estimators/Econometrics. You cannot just use the exact same things we see in this course. You get the wrong answers if you do. \n",
    "- We will not cover time series in this course. Be aware that you can do this, but that you need to go learn some new estimators to use for it. (They are not more difficult, just different.)\n"
   ]
  },
  {
   "cell_type": "markdown",
   "metadata": {
    "slideshow": {
     "slide_type": "slide"
    }
   },
   "source": [
    "### Panel Data\n",
    "\n",
    "- Same individuals, observed in multiple time periods.\n",
    "- Lots of individuals (large n, indexed by i), but only need a few time periods (small T, indexed by t).\n",
    "- Important difference from repeated cross-section: **same** individuals in each time period.\n",
    "- Now, we can look at how individuals change over time.\n",
    "- With *repeated cross-section* we could only look at how averages change over time, not individuals.\n"
   ]
  },
  {
   "cell_type": "markdown",
   "metadata": {
    "slideshow": {
     "slide_type": "slide"
    }
   },
   "source": [
    "## Cross Section\n",
    "<center><img src='Material/Topic8_Fig1.png' width='600' height='80'/></center>"
   ]
  },
  {
   "cell_type": "markdown",
   "metadata": {
    "slideshow": {
     "slide_type": "slide"
    }
   },
   "source": [
    "## Pooled Cross Section\n",
    "<center><img src='Material/Topic8_Fig2.png' width='600' height='80'/></center>"
   ]
  },
  {
   "cell_type": "markdown",
   "metadata": {
    "slideshow": {
     "slide_type": "slide"
    }
   },
   "source": [
    "## Time Series\n",
    "<center><img src='Material/Topic8_Fig3.png' width='600' height='80'/></center>"
   ]
  },
  {
   "cell_type": "markdown",
   "metadata": {
    "slideshow": {
     "slide_type": "slide"
    }
   },
   "source": [
    "## Panel Data\n",
    "<center><img src='Material/Topic8_Fig4.png' width='600' height='80'/></center>"
   ]
  },
  {
   "cell_type": "markdown",
   "metadata": {
    "slideshow": {
     "slide_type": "slide"
    }
   },
   "source": [
    "### Women’s fertility (1972-1984), by year\n",
    "\n",
    "<center><img src='Material/Topic8_Fig5.png' width='600' height='80'/></center>"
   ]
  },
  {
   "cell_type": "markdown",
   "metadata": {
    "slideshow": {
     "slide_type": "slide"
    }
   },
   "source": [
    "### Women’s mean years of education (1972-1984), by year\n",
    "\n",
    "<center><img src='Material/Topic8_Fig6.png' width='600' height='80'/></center>"
   ]
  },
  {
   "cell_type": "markdown",
   "metadata": {
    "slideshow": {
     "slide_type": "slide"
    }
   },
   "source": [
    "### Example 13.1\n",
    "#### *Women’s fertility over time*\n",
    "\n",
    "- **Question**: *After controlling for other observable factors, what has happened to fertility rates over time?*\n",
    " - Dependent variable: *kids*, defined as the total number of kids born to a woman.\n",
    " - Explanatory variables: education, age, race, region of the country where person lived at age 16, and living environment at age 16."
   ]
  },
  {
   "cell_type": "markdown",
   "metadata": {
    "slideshow": {
     "slide_type": "slide"
    }
   },
   "source": [
    "### Pooled Cross Section.\n",
    "- Pooling two or more independent cross sections is a straightforward extension of cross-sectional methods. \n",
    "- *Nothing new* needs to be done in stating assumptions!\n",
    "- The practically important issue is allowing for different intercepts, and possibly different slopes, across time. \n",
    "\n",
    "Why might we want to pool cross sections?\n",
    "- Larger sample size (=> lower standard errors)\n",
    "- Enables us to estimate **trends** *conditional on explanatory variables*.  \n",
    "- Enables us to estimate how the effect of one factor has changed over time (e.g., how did the gender wage gap change?)"
   ]
  },
  {
   "cell_type": "markdown",
   "metadata": {
    "slideshow": {
     "slide_type": "slide"
    }
   },
   "source": [
    "<center><img src='Material/Topic8_Fig7.png' width='600' height='80'/></center>"
   ]
  },
  {
   "cell_type": "markdown",
   "metadata": {
    "slideshow": {
     "slide_type": "slide"
    }
   },
   "source": [
    "### Interpretation of the Results\n",
    "\n",
    "- How should we interpret the coefficients on the year dummy variables? (Hint: First establish what is the **base year** – see lecture on dummy variables)\n",
    "\n",
    "- Are these estimated effects statistically and economically significant? Explain.\n",
    "\n",
    "- How would you test the null hypothesis that, conditional on the other explanatory variables (not related to time), fertility rates are constant over time?\n"
   ]
  },
  {
   "cell_type": "markdown",
   "metadata": {
    "slideshow": {
     "slide_type": "slide"
    }
   },
   "source": [
    "### How to test for significance of the results?\n",
    "\n",
    "- Test if year dummies jointly predict kids after controlling for educ, age, …? \n",
    "\n",
    "- We do an F-test:\n",
    "\n",
    "<center><img src='Material/Topic8_Fig8.png' width='600' height='80'/></center>"
   ]
  },
  {
   "cell_type": "markdown",
   "metadata": {
    "slideshow": {
     "slide_type": "slide"
    }
   },
   "source": [
    "- Remember from topic 6\n",
    " - Intercepts might be different for different subgroups\n",
    " - Slopes might be different for different subroups\n",
    " \n",
    "<center><img src='Material/Topic8_Fig10a.png' width='300' height='80'/><img src='Material/Topic8_Fig10b.png' width='300' height='80'/></center>\n",
    "\n",
    "With pooled cross section data we can find out if:\n",
    "- The difference between subgroups changes over time\n",
    "- The effect of a variable changes over time "
   ]
  },
  {
   "cell_type": "markdown",
   "metadata": {
    "slideshow": {
     "slide_type": "slide"
    }
   },
   "source": [
    "We have data on two cross sectional datasets. One from 1978 and one from 1985.\n",
    "\n",
    "- With this dataset we can answer these questions:\n",
    " - Did the gender wage gap change from 1978 to 1985? \n",
    " - Did the return to education change from 1978 to 1985? "
   ]
  },
  {
   "cell_type": "markdown",
   "metadata": {
    "slideshow": {
     "slide_type": "slide"
    }
   },
   "source": [
    "- Did the gender wage gap change from 1978 to 1985?\n",
    "- Did the return to education change from 1978 to 1985?\n",
    "\n",
    "$$ ln(wage) = \\beta_0 + \\delta_0 y85 + \\underbrace{\\overbrace{\\beta_1 educ}^{\\text{Effect of education on wage in 1978: } \\beta_1} + \\delta_1 (y85*educ)}_{\\text{Effect of education on wage in 1985: }\\beta1+\\delta_1} + \\beta_2 exper \\\\\n",
    " \\quad \\quad +\\beta_3 exper^2 + \\beta_4 union + \\underbrace{\\overbrace{\\beta_5 female}^{\\text{Effect of female on wage in 1978: }\\beta_5} + \\delta_5 (y85*female)}_{\\text{Effect of female on wage in 1985: }\\beta_5+\\delta_5} + u $$"
   ]
  },
  {
   "cell_type": "markdown",
   "metadata": {
    "slideshow": {
     "slide_type": "slide"
    }
   },
   "source": [
    "<center><img src='Material/Topic8_Fig11.png' width='600' height='80'/></center>\n",
    "\n",
    "From 1978 to 1985:\n",
    "Estimated return to education increased from about 7% to about 10%\n",
    "\n",
    "Estimated gender wage gap, conditional on education, experience, experience squared,\n",
    "Union, decreased from approx 32% to approx 23% (remember the approximation error\n",
    "discussed in topic 5) "
   ]
  },
  {
   "cell_type": "markdown",
   "metadata": {
    "slideshow": {
     "slide_type": "slide"
    }
   },
   "source": [
    "## What is the effect of building a refuse incinerator on housing prices?\n",
    "<center><img src='Material/Topic8_Fig12.png' width='600' height='80'/></center>\n"
   ]
  },
  {
   "cell_type": "markdown",
   "metadata": {
    "slideshow": {
     "slide_type": "slide"
    }
   },
   "source": [
    "**Background**: A rumor that a new incinerator would be built in North Andover started after 1978; construction started in 1981.\n",
    "\n",
    "We expect that the building of the incinerator has a negative effect on house prices.\n",
    "\n",
    "Our simple econometric model is thus written as follows:\n",
    "$$ rprice=\\beta_0 + \\beta_1 nearinc + u $$\n",
    "\n",
    "Where *rprice* is the house price in 1978 dollars, *nearinc* is a dummy variable equal to 1 if the house is near the incinerator and 0 otherwise.\n",
    "\n",
    "We expect $\\beta_1$ <0"
   ]
  },
  {
   "cell_type": "markdown",
   "metadata": {
    "slideshow": {
     "slide_type": "slide"
    }
   },
   "source": [
    "<center><img src='Material/Topic8_Fig13.png' width='600' height='80'/></center>"
   ]
  },
  {
   "cell_type": "markdown",
   "metadata": {
    "slideshow": {
     "slide_type": "slide"
    }
   },
   "source": [
    "### Price differences in 1981\n",
    "<center><img src='Material/Topic8_Fig14.png' width='600' height='80'/></center>"
   ]
  },
  {
   "cell_type": "markdown",
   "metadata": {
    "slideshow": {
     "slide_type": "slide"
    }
   },
   "source": [
    "### Price differences in 1978\n",
    "<center><img src='Material/Topic8_Fig15.png' width='600' height='80'/></center>"
   ]
  },
  {
   "cell_type": "markdown",
   "metadata": {
    "slideshow": {
     "slide_type": "slide"
    }
   },
   "source": [
    "### Difference-in-Difference (Diff-in-Diff) estimator, intuition\n",
    "\n",
    "<center><img src='Material/Topic8_Fig16.png' width='600' height='80'/></center>\n",
    "\n",
    "Diff-in-Diff estimator of effect of incinerator: $\\Delta 1981 - \\Delta 1978 = \\$-11,863 $\n",
    "\n",
    "- It is only valid if the difference due to the other factors is constant (unchanging) over time.\n",
    "- Is \\$-11,863 statistically significant? We can't tell from this table."
   ]
  },
  {
   "cell_type": "markdown",
   "metadata": {
    "slideshow": {
     "slide_type": "slide"
    }
   },
   "source": [
    "### Graphical illustration of Diff-in-Diff\n",
    "\n",
    "<center><img src='Material/Topic8_Fig17.png' width='500' height='80'/></center>\n",
    "\n",
    "- **Parallel trends assumption**: The outcome of the treatment and control group would \n",
    "have followed a parallel trend in the absence of the treatment. "
   ]
  },
  {
   "cell_type": "markdown",
   "metadata": {
    "slideshow": {
     "slide_type": "slide"
    }
   },
   "source": [
    "### Parallel trends assumption\n",
    "\n",
    "<center><img src='Material/Topic8_Fig17.png' width='500' height='80'/></center>\n",
    "\n",
    "- Recall from topic 1:  \n",
    "**causal effect of treatment** = outcome if treated – outcome if not treated"
   ]
  },
  {
   "cell_type": "markdown",
   "metadata": {
    "slideshow": {
     "slide_type": "slide"
    }
   },
   "source": [
    "## Diff-in-Diff Estimation using OLS\n",
    "\n",
    "We divide the observations into 2 groups: \n",
    "- **Control group**: not affected by the policy change (houses far from the incinerator).\n",
    "- **Treatment group**: affected by the policy change (houses near the incinerator).\n",
    "\n",
    "We have 2 periods of data\n",
    "- One year **before** the policy change.\n",
    "- One year **after** the policy change."
   ]
  },
  {
   "cell_type": "markdown",
   "metadata": {
    "slideshow": {
     "slide_type": "slide"
    }
   },
   "source": [
    "We define 2 dummy variables:\n",
    "- Treatment status dT (dT = 1 if Treatment group, dT = 0 if Control group)\n",
    "- Time period d2 (d2 = 1 if after the policy change, d2 = 0 if before the policy change,)\n",
    "\n",
    "We thus have four groups: \n",
    "- Treatment group (dT=1), before the change (d2=0)\n",
    "- Treatment group (dT=1), after the change (d2=1) \n",
    "- Control group (dT=0), before the change (d2=0)\n",
    "- Control group (dT=0), after the change (d2=1)"
   ]
  },
  {
   "cell_type": "markdown",
   "metadata": {
    "slideshow": {
     "slide_type": "slide"
    }
   },
   "source": [
    "$$ y =\\beta_0 + \\delta_0 d2 + \\beta_1 dT + \\delta_1 \\underbrace{(d2*dT)}_{\\text{interaction term}} + u$$\n",
    "\n",
    "<center><img src='Material/Topic8_Fig19.png' width='500' height='80'/></center>\n",
    "\n",
    "As long as there are *no other* explanatory variables in the regression, the OLS estimate of $\\delta_1$ is numerically identical to\n",
    "$$ \\hat{\\delta}_1 = (\\bar{y}_{2,T} - \\bar{y}_{2,C}) - (\\bar{y}_{1,T} - \\bar{y}_{1,C}) $$\n",
    "where $\\bar{y}_{2,T}$ is the sample mean for the treated group in the period after the policy change (period 2), $\\bar{y}_{1,C}$ is the sample mean for the control group before the policy change (period 1), and so on.\n"
   ]
  },
  {
   "cell_type": "markdown",
   "metadata": {
    "slideshow": {
     "slide_type": "slide"
    }
   },
   "source": [
    "Diff-in-Diff in OLS framework\n",
    "$$ rprice = \\beta_0 + \\beta_1 nearinc + \\beta_2 y81 + \\beta_3 ( nearinc* y81) + u $$\n",
    "\n",
    "<right><img src='Material/Topic8_Fig20.png' width='600' height='80'/></right>\n",
    "\n",
    "Should we reject the null hypothesis that the building of the incinerator did not cause lower house prices?"
   ]
  },
  {
   "cell_type": "markdown",
   "metadata": {
    "slideshow": {
     "slide_type": "slide"
    }
   },
   "source": [
    "## Adding Control Variables\n",
    "\n",
    "There are 2 good reasons for adding **control variables** to a diff-in-diff model:\n",
    "- The parallel trends assumption might be violated and we hope that the outcome **conditional on the control variables** would have followed a parallel trend for the treatment and control group.\n",
    "  (i.e., that the control variables can fully account for/predict the deviations from parallel trends)\n",
    "- Adding control variables can reduce the error variance and therefore the standard error of the diff-in-diff estimate."
   ]
  },
  {
   "cell_type": "markdown",
   "metadata": {
    "slideshow": {
     "slide_type": "slide"
    }
   },
   "source": [
    "## Diff-in-Diff Estimation with Control Variables\n",
    "<center><img src='Material/Topic8_Fig21.png' width='600' height='80'/></center>\n",
    "\n",
    "- How do these results compare to those obtained for the model without control variables? Discuss."
   ]
  },
  {
   "cell_type": "markdown",
   "metadata": {
    "slideshow": {
     "slide_type": "slide"
    }
   },
   "source": [
    "## Example Diff-in-Diff by Marie & Zoelitz (2015)  <img src='Material/Topic8_Fig22.png' width='40' height='40'/>\n",
    "\n",
    "In Maastricht:\n",
    "- Coffeeshops were open to everyone until September 2011\n",
    "- From October 2011 they were open only open for Dutch, Germans and Belgians (DGB) and closed for all other nationalities. \n",
    "\n",
    "- What is the effect of coffeeshop closing on academic performance?\n",
    "\n",
    "\n",
    "(Coffeeshops is what the Dutch call places you can legally smoke weed)"
   ]
  },
  {
   "cell_type": "markdown",
   "metadata": {
    "slideshow": {
     "slide_type": "slide"
    }
   },
   "source": [
    "Poster Announcing Application on 1st of October 2011\n",
    "\n",
    "<center><img src='Material/Topic8_Fig23.png' width='400' height='80'/></center>\n"
   ]
  },
  {
   "cell_type": "markdown",
   "metadata": {
    "slideshow": {
     "slide_type": "slide"
    }
   },
   "source": [
    "#### Course Grades for DGB and All Other Nationality Students \n",
    "\n",
    "<right><img src='Material/Topic8_Fig24.png' width='600' height='120'/></right>\n",
    "\n",
    "The performance of students who are no longer legally permitted to buy marijuana increases substantially.\n",
    "\n",
    "This is evidence for causal effect of restricting access to marijuana on grades."
   ]
  },
  {
   "cell_type": "markdown",
   "metadata": {
    "slideshow": {
     "slide_type": "slide"
    }
   },
   "source": [
    "### In a regression framework\n",
    "\n",
    "- They then estimated the following regression:\n",
    "$$ Y_{it} = \\alpha + \\beta_1 (NonDGB_i*Discrim_t) + \\beta_2 NonDGB_i +\\beta_3 Discrim_t + \\epsilon_{it} $$\n",
    "\n",
    "- Where *NonDGP* is a dummy indicating if a student is not Dutch, German or Belgian. \n",
    "- *Discrim* is a dummy equal to one for the discriminated period.\n",
    "\n",
    "\n"
   ]
  },
  {
   "cell_type": "markdown",
   "metadata": {
    "slideshow": {
     "slide_type": "slide"
    }
   },
   "source": [
    "### Results\n",
    "\n",
    "<right><img src='Material/Topic8_Fig25.png' width='600' height='120'/></right>"
   ]
  },
  {
   "cell_type": "markdown",
   "metadata": {
    "slideshow": {
     "slide_type": "slide"
    }
   },
   "source": [
    "## What is the effect of unemployment on crime?\n",
    "<center><img src='Material/Topic8_Fig26.png' width='600' height='120'/></center>"
   ]
  },
  {
   "cell_type": "markdown",
   "metadata": {
    "slideshow": {
     "slide_type": "slide"
    }
   },
   "source": [
    "### Data\n",
    "\n",
    "*CRIME2.dta*: a **panel data** set on crime and unemployment rates for 46 cities for 1982 & 1987.\n",
    "\n",
    "We observe each city twice!\n",
    "\n",
    "*Crmrte* = crimes per 100,000 people  \n",
    "*Unem* = unemployment rate  \n",
    "*y87* = year dummy (1 if year 1987)\n"
   ]
  },
  {
   "cell_type": "markdown",
   "metadata": {
    "slideshow": {
     "slide_type": "slide"
    }
   },
   "source": [
    "### Panel Data\n",
    "<center><img src='Material/Topic8_Fig27.png' width='600' height='120'/></center>"
   ]
  },
  {
   "cell_type": "markdown",
   "metadata": {
    "slideshow": {
     "slide_type": "slide"
    }
   },
   "source": [
    "### Cross Section\n",
    "<center><img src='Material/Topic8_Fig28.png' width='600' height='120'/></center>\n",
    "\n",
    "- High unemployment rate predicts low crime rates.\n",
    "- Does this fit with what we might expect? There might be a problem with this specification due to omitted variables (e.g. geographical features).\n"
   ]
  },
  {
   "cell_type": "markdown",
   "metadata": {
    "slideshow": {
     "slide_type": "slide"
    }
   },
   "source": [
    "### Pooled Cross Section\n",
    "<center><img src='Material/Topic8_Fig29.png' width='600' height='120'/></center>\n",
    "\n",
    "- More in line with our expectations, but there might still be omitted variable bias. \n"
   ]
  },
  {
   "cell_type": "markdown",
   "metadata": {
    "slideshow": {
     "slide_type": "slide"
    }
   },
   "source": [
    "### How would you weigh a dog that refuses to sit still on a scale? \n",
    "<center><img src='Material/Topic8_Fig30.png' width='600' height='120'/></center>\n"
   ]
  },
  {
   "cell_type": "markdown",
   "metadata": {
    "slideshow": {
     "slide_type": "slide"
    }
   },
   "source": [
    "## First-Difference estimator, intuition\n",
    "\n",
    "- By differencing every variable ($Y_2-Y_1$, $X_2-X_1$, etc.) we can relate changes in X to changes in Y.\n",
    "- This allows us to hold time constant factors constant."
   ]
  },
  {
   "cell_type": "markdown",
   "metadata": {
    "slideshow": {
     "slide_type": "slide"
    }
   },
   "source": [
    "## First Difference estimator, step by step\n",
    "\n",
    "- Subscript $i$ denotes the cross-sectional unit (e.g., individual, city)\n",
    "- Subscript $t$ denotes the time period (e.g., year, month)\n",
    "- We can then write a panel data model with a single observed explanatory variable as:\n",
    "$$ y_{it} = \\beta_0 + \\delta_2 period2_t + \\beta_1 x_{it} + \\upsilon_{it}, \\quad \\quad t=1,2$$\n",
    "\n",
    "- The error term $\\upsilon_{it}$ can then be split up into: \n",
    " - a time constant part $a_i$ (hence no time script)\n",
    " - and a time varying part $u_{it}$\n",
    "- That is, $\\upsilon_{it}=a_i+u_{it}$"
   ]
  },
  {
   "cell_type": "markdown",
   "metadata": {
    "slideshow": {
     "slide_type": "slide"
    }
   },
   "source": [
    "## First Difference estimator, step by step\n",
    "\n",
    "- We can thus rewrite the model as follows:\n",
    "$$ y_{it} = \\beta_0 + \\delta_2 period2_t + \\beta_1 x_{it} + a_i + u_{it}, \\quad \\quad t=1,2$$\n",
    "\n",
    "- $a_i$ is called a **fixed effect**.\n",
    "- The error $u_{it}$ is often called the **idiosyncratic** (or time varying) error.\n",
    "- The above model is often called the **fixed effects model**."
   ]
  },
  {
   "cell_type": "markdown",
   "metadata": {
    "slideshow": {
     "slide_type": "slide"
    }
   },
   "source": [
    "For each cross-sectional observation i, write the two years as,\n",
    "$$ y_{i2} = (\\beta_0 + \\delta_0) + \\beta_1 x_{i2} + a_i + u_{i2}, \\quad \\quad t=2$$\n",
    "$$ y_{i1} = \\beta_0 + \\beta_1 x_{i1} + a_i + u_{i1}, \\quad \\quad t=1$$\n",
    "Next, subtract the second equation from the first,\n",
    "$$ (y_{i2}-y_{i1}) = \\beta_0 + \\beta_1 (x_{i2}-x_{i1}) + (u_{i2}-u_{i1}), \\quad \\quad t=1$$\n",
    "$$ \\Delta y_{i2} = \\delta_0 + \\beta_1 \\Delta x_{i2} + \\Delta u_{i2} $$ \n",
    "\n",
    "<center><img src='Material/Topic8_Fig31.png' width='600' height='40'/></center>"
   ]
  },
  {
   "cell_type": "markdown",
   "metadata": {
    "slideshow": {
     "slide_type": "slide"
    }
   },
   "source": [
    "## $a_i$ has been differenced away, so what?\n",
    "\n",
    "$$ \\Delta y_{it} = \\delta_0 + \\beta_1 \\Delta x_{it} + \\Delta u_{it} \\quad \\quad \\quad \\quad \\quad  \\text{(Equation 13.17)} $$\n",
    "\n",
    "- The good news: Even if $a_i$ is correlated with $x_it$, we may obtain an unbiased estimate of $\\beta_1$.\n",
    "- Equation (13.17) is called a first-differenced equation and we can simply estimate it with OLS.\n",
    "- We need to consider the OLS assumptions as before.\n",
    "-  We can now write assumption SLR. 4 as follows:\n",
    " - $u_{it}$ must be uncorrelated with the explanatory variable in both periods."
   ]
  },
  {
   "cell_type": "markdown",
   "metadata": {
    "slideshow": {
     "slide_type": "slide"
    }
   },
   "source": [
    "## First Differenced Data in Stata\n",
    "\n",
    "<center><img src='Material/Topic8_Fig32.png' width='500' height='120'/></center>\n",
    "\n",
    "*Cunem* = **change** in unemployment rate (unemployment rate in 87 – unemployment rate rate in 82).  \n",
    "*Ccrmrte* = **change** in crime rate (crime rate in 87 – crime rate in 82)\n"
   ]
  },
  {
   "cell_type": "markdown",
   "metadata": {
    "slideshow": {
     "slide_type": "slide"
    }
   },
   "source": [
    "## Example: crime rate and unemployment\n",
    "\n",
    "<center><img src='Material/Topic8_Fig33.png' width='600' height='120'/></center>\n",
    "\n",
    "FD estimates predicts that if unemployment rate increases by 1 percentage point Crime rate increases by 2.217 (per 100,000 population)"
   ]
  },
  {
   "cell_type": "markdown",
   "metadata": {
    "slideshow": {
     "slide_type": "slide"
    }
   },
   "source": [
    "- Whether our estimator is unbiased depends on SLR.4:\n",
    "$$ E(\\Delta u_{it} | \\Delta unemployment_{it} ) = E(\\Delta u_{it})$$\n",
    "- Could there be time varying factors that are correlated with crime?\n",
    "- What if cities start hiring more police when the unemployment rate decreases?\n",
    " - Hiring police might be a mechanism.\n",
    "- What if a change in Government affects both crime and unemployment?\n",
    " - As long as we can control for changes in Government we are fine."
   ]
  },
  {
   "cell_type": "markdown",
   "metadata": {
    "slideshow": {
     "slide_type": "slide"
    }
   },
   "source": [
    "### Clicker question\n",
    "\n",
    "The pooled OLS estimate of the effect of area (in square mile) on crime rate is 0.0031. What do you think is the First-Difference OLS estimate of area (in square mile) on crime rate?\n",
    "\n",
    "A) 0.056  \n",
    "B) -0.024  \n",
    "C) 0.325  \n",
    "D) Can’t say/Not defined"
   ]
  },
  {
   "cell_type": "markdown",
   "metadata": {
    "slideshow": {
     "slide_type": "slide"
    }
   },
   "source": [
    "## Keep in Mind\n",
    "\n",
    "- Differencing the two years of panel data is a powerful way to control for unobserved (time-constant) effects.\n",
    "\n",
    "**BUT**:\n",
    "- Panel data sets are **harder to collect** than a single cross section\n",
    "- The differencing used to eliminate $a_i$ can greatly **reduce the variation** in the explanatory variables; that is, while $x_{it}$ may have a lot of variation, $\\Delta x_{it}$ may not. One implication would be a large standard error (why?).\n",
    "- If $x_{it}$ changes little or not at all over time (e.g., years of education amongst adult workers), then the above approach will not work well in practice."
   ]
  },
  {
   "cell_type": "markdown",
   "metadata": {
    "slideshow": {
     "slide_type": "slide"
    }
   },
   "source": [
    "## Example: Effect of receiving a training grant on productivity\n",
    "\n",
    "- The government gives out training-grants to firms who apply.\n",
    "- Grants are awarded on a first-come first serve basis (grant = 1 if firm received a grant).\n",
    "- A measure of productivity is the scrap rate (scrap) (defect items per 100).\n",
    "\n",
    "- Model:\n",
    "$$ scrap_{it} = \\beta_0 + \\delta_0 d88_t + \\beta_1 grant_{it} + a_i + u_{it} $$\n"
   ]
  },
  {
   "cell_type": "markdown",
   "metadata": {
    "slideshow": {
     "slide_type": "slide"
    }
   },
   "source": [
    "$$ scrap_{it} = \\beta_0 + \\delta_0 d88_t + \\beta_1 grant_{it} + a_i + u_{it} $$\n",
    "\n",
    "Years: 1987 and 1988.\n",
    "- What factors might be captured by the term $a_i$?\n",
    "- Why might $a_i$ be correlated with whether a firm receives a grant? "
   ]
  },
  {
   "cell_type": "markdown",
   "metadata": {
    "slideshow": {
     "slide_type": "slide"
    }
   },
   "source": [
    "Differencing to remove $a_i$ gives:\n",
    "$$ \\Delta scrap_{it} = \\delta_0 + \\beta_1 \\Delta grant_{it} + u_{it} $$\n",
    "\n",
    "Therfore, we simply regress the change in the scrap rate on the change in the grant indicator.\n",
    "\n",
    "Note that, since no firm received a grant in 1987, the change in the grant indicator is equal to the indicator for whether the firm received a grant in 1988."
   ]
  },
  {
   "cell_type": "markdown",
   "metadata": {
    "slideshow": {
     "slide_type": "slide"
    }
   },
   "source": [
    "<center><img src='Material/Topic8_Fig34.png' width='600' height='120'/></center>\n"
   ]
  },
  {
   "cell_type": "markdown",
   "metadata": {
    "slideshow": {
     "slide_type": "slide"
    }
   },
   "source": [
    "### Respecificying the model in log form\n",
    "\n",
    "<center><img src='Material/Topic8_Fig35.png' width='600' height='80'/></center>\n",
    "\n",
    "- Interpret the results?"
   ]
  },
  {
   "cell_type": "markdown",
   "metadata": {
    "slideshow": {
     "slide_type": "slide"
    }
   },
   "source": [
    "## Review/Other"
   ]
  }
 ],
 "metadata": {
  "celltoolbar": "Slideshow",
  "kernelspec": {
   "display_name": "Julia 1.0.3",
   "language": "julia",
   "name": "julia-1.0"
  },
  "language_info": {
   "file_extension": ".jl",
   "mimetype": "application/julia",
   "name": "julia",
   "version": "1.0.3"
  }
 },
 "nbformat": 4,
 "nbformat_minor": 1
}
